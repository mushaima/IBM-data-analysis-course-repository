{
 "cells": [
  {
   "cell_type": "markdown",
   "metadata": {},
   "source": [
    "<center><img src=\"https://cf-courses-data.s3.us.cloud-object-storage.appdomain.cloud/assets/logos/SN_web_lightmode.png\" width=\"300\"></center><br/>\n",
    "\n",
    "# Assignment: Notebook for Peer Assignment\n",
    "\n",
    "Estimated time needed: 60 minutes\n"
   ]
  },
  {
   "cell_type": "markdown",
   "metadata": {},
   "source": [
    "# Assignment Scenario\n",
    "\n",
    "Congratulations! You have just been hired by a US Weather forecast firm as a data scientist.\n",
    "\n",
    "The company is considering the weather condition to help predict the possibility of precipitations, which involves using various local climatological variables, including temperature, wind speed, humidity, dew point, and pressure. The data you will be handling was collected by a NOAA weather station located at the John F. Kennedy International Airport in Queens, New York.\n",
    "\n",
    "Your task is to provide a high level analysis of weather data in JFK Airport. Your stakeholders want to understand the current and historical record of precipitations based on different variables. For now they are mainly interested in a macro-view of JFK Airport Weather, and how it relates to the possibility to rain because it will affect flight delays and etc.\n"
   ]
  },
  {
   "cell_type": "markdown",
   "metadata": {},
   "source": [
    "# Introduction\n",
    "\n",
    "This project relates to the NOAA Weather Dataset - JFK Airport (New York). The original dataset contains 114,546 hourly observations of 12 local climatological variables (such as temperature and wind speed) collected at JFK airport. This dataset can be obtained for free from the IBM Developer [Data Asset Exchange](https://developer.ibm.com/exchanges/data/all/jfk-weather-data/?utm_medium=Exinfluencer&utm_source=Exinfluencer&utm_content=000026UJ&utm_term=10006555&utm_id=NA-SkillsNetwork-Channel-SkillsNetworkCoursesIBMDA0151ENSkillsNetwork926-2022-01-01). \n",
    "\n",
    "For this project, you will be using a subset dataset, which contains 5727 rows (about 5% or original rows) and 9 columns. The end goal will be to predict the precipitation using some of the available features. In this project, you will practice reading data files, preprocessing data, creating models, improving models and evaluating them to ultimately choose the best model.\n",
    "\n"
   ]
  },
  {
   "cell_type": "markdown",
   "metadata": {},
   "source": [
    "\n",
    "## Table of Contents:\n",
    "\n",
    "Using this R notebook you will complete **10 tasks**:\n",
    "* [0. Import Modules](#cell0)\n",
    "* [1. Download and Unzip NOAA Weather Dataset](#cell1)\n",
    "* [2. Read Dataset into Project](#cell2)\n",
    "* [3. Select Subset of Columns](#cell3)\n",
    "* [4. Clean Up Columns](#cell4)\n",
    "* [5. Convert Columns to Numerical Types](#cell5)\n",
    "* [6. Rename Columns](#cell6)\n",
    "* [7. Exploratory Data Analysis](#cell7)\n",
    "* [8. Linear Regression](#cell8)\n",
    "* [9. Improve the Model](#cell9)\n",
    "* [10. Find Best Model](#cell10)\n",
    "\n",
    "\n",
    "<a id=\"cell0\"></a>\n",
    "## 0. Import required modules\n",
    "\n",
    "Below, install \"tidymodels\", additionally \"rlang\" should be updated in order to properly run \"tidymodels\". \n"
   ]
  },
  {
   "cell_type": "code",
   "execution_count": null,
   "metadata": {},
   "outputs": [],
   "source": [
    "# Install tidymodels if you haven't done so\n",
    "install.packages(\"rlang\")\n",
    "install.packages(\"tidymodels\")"
   ]
  },
  {
   "cell_type": "markdown",
   "metadata": {},
   "source": [
    "**Note: After installing the packages, restart the kernel. Without installing the packages again, load them. Tidyverse and Tidymodels will be the two main packages you will use.**\n"
   ]
  },
  {
   "cell_type": "code",
   "execution_count": 1,
   "metadata": {
    "tags": []
   },
   "outputs": [
    {
     "name": "stderr",
     "output_type": "stream",
     "text": [
      "── \u001b[1mAttaching packages\u001b[22m ────────────────────────────────────────────────────────────────────────────── tidymodels 1.0.0 ──\n",
      "\n",
      "\u001b[32m✔\u001b[39m \u001b[34mbroom       \u001b[39m 1.0.3     \u001b[32m✔\u001b[39m \u001b[34mrecipes     \u001b[39m 1.0.4\n",
      "\u001b[32m✔\u001b[39m \u001b[34mdials       \u001b[39m 1.1.0     \u001b[32m✔\u001b[39m \u001b[34mrsample     \u001b[39m 1.1.1\n",
      "\u001b[32m✔\u001b[39m \u001b[34mdplyr       \u001b[39m 1.1.0     \u001b[32m✔\u001b[39m \u001b[34mtibble      \u001b[39m 3.1.8\n",
      "\u001b[32m✔\u001b[39m \u001b[34mggplot2     \u001b[39m 3.4.0     \u001b[32m✔\u001b[39m \u001b[34mtidyr       \u001b[39m 1.3.0\n",
      "\u001b[32m✔\u001b[39m \u001b[34minfer       \u001b[39m 1.0.4     \u001b[32m✔\u001b[39m \u001b[34mtune        \u001b[39m 1.0.1\n",
      "\u001b[32m✔\u001b[39m \u001b[34mmodeldata   \u001b[39m 1.1.0     \u001b[32m✔\u001b[39m \u001b[34mworkflows   \u001b[39m 1.1.2\n",
      "\u001b[32m✔\u001b[39m \u001b[34mparsnip     \u001b[39m 1.0.3     \u001b[32m✔\u001b[39m \u001b[34mworkflowsets\u001b[39m 1.0.0\n",
      "\u001b[32m✔\u001b[39m \u001b[34mpurrr       \u001b[39m 1.0.1     \u001b[32m✔\u001b[39m \u001b[34myardstick   \u001b[39m 1.1.0\n",
      "\n",
      "── \u001b[1mConflicts\u001b[22m ───────────────────────────────────────────────────────────────────────────────── tidymodels_conflicts() ──\n",
      "\u001b[31m✖\u001b[39m \u001b[34mpurrr\u001b[39m::\u001b[32mdiscard()\u001b[39m masks \u001b[34mscales\u001b[39m::discard()\n",
      "\u001b[31m✖\u001b[39m \u001b[34mdplyr\u001b[39m::\u001b[32mfilter()\u001b[39m  masks \u001b[34mstats\u001b[39m::filter()\n",
      "\u001b[31m✖\u001b[39m \u001b[34mdplyr\u001b[39m::\u001b[32mlag()\u001b[39m     masks \u001b[34mstats\u001b[39m::lag()\n",
      "\u001b[31m✖\u001b[39m \u001b[34mrecipes\u001b[39m::\u001b[32mstep()\u001b[39m  masks \u001b[34mstats\u001b[39m::step()\n",
      "\u001b[34m•\u001b[39m Dig deeper into tidy modeling with R at \u001b[32mhttps://www.tmwr.org\u001b[39m\n",
      "\n",
      "── \u001b[1mAttaching packages\u001b[22m ─────────────────────────────────────────────────────────────────────────────── tidyverse 1.3.2 ──\n",
      "\u001b[32m✔\u001b[39m \u001b[34mreadr  \u001b[39m 2.1.3     \u001b[32m✔\u001b[39m \u001b[34mforcats\u001b[39m 1.0.0\n",
      "\u001b[32m✔\u001b[39m \u001b[34mstringr\u001b[39m 1.5.0     \n",
      "── \u001b[1mConflicts\u001b[22m ────────────────────────────────────────────────────────────────────────────────── tidyverse_conflicts() ──\n",
      "\u001b[31m✖\u001b[39m \u001b[34mreadr\u001b[39m::\u001b[32mcol_factor()\u001b[39m masks \u001b[34mscales\u001b[39m::col_factor()\n",
      "\u001b[31m✖\u001b[39m \u001b[34mpurrr\u001b[39m::\u001b[32mdiscard()\u001b[39m    masks \u001b[34mscales\u001b[39m::discard()\n",
      "\u001b[31m✖\u001b[39m \u001b[34mdplyr\u001b[39m::\u001b[32mfilter()\u001b[39m     masks \u001b[34mstats\u001b[39m::filter()\n",
      "\u001b[31m✖\u001b[39m \u001b[34mstringr\u001b[39m::\u001b[32mfixed()\u001b[39m    masks \u001b[34mrecipes\u001b[39m::fixed()\n",
      "\u001b[31m✖\u001b[39m \u001b[34mdplyr\u001b[39m::\u001b[32mlag()\u001b[39m        masks \u001b[34mstats\u001b[39m::lag()\n",
      "\u001b[31m✖\u001b[39m \u001b[34mreadr\u001b[39m::\u001b[32mspec()\u001b[39m       masks \u001b[34myardstick\u001b[39m::spec()\n"
     ]
    }
   ],
   "source": [
    "# Library for modeling\n",
    "library(tidymodels)\n",
    "\n",
    "# Load tidyverse\n",
    "library(tidyverse)"
   ]
  },
  {
   "cell_type": "markdown",
   "metadata": {},
   "source": [
    "\n",
    "### Understand the Dataset\n",
    "\n",
    "The original NOAA JFK dataset contains 114,546 hourly observations of various local climatological variables (including temperature, wind speed, humidity, dew point, and pressure). \n",
    "\n",
    "In this project you will use a sample dataset, which is around 293 KB. [Link to the sample dataset](https://dax-cdn.cdn.appdomain.cloud/dax-noaa-weather-data-jfk-airport/1.1.4/noaa-weather-sample-data.tar.gz).\n",
    "\n",
    "The sample contains 5727 rows (about 5% or original rows) and 9 columns, which are:\n",
    "- DATE\n",
    "- HOURLYDewPointTempF\n",
    "- HOURLYRelativeHumidity\n",
    "- HOURLYDRYBULBTEMPF\n",
    "- HOURLYWETBULBTEMPF\n",
    "- HOURLYPrecip\n",
    "- HOURLYWindSpeed\n",
    "- HOURLYSeaLevelPressure\n",
    "- HOURLYStationPressure\n",
    "\n",
    "The original dataset is much bigger. Feel free to explore the original dataset. [Link to the original dataset.](https://dax-cdn.cdn.appdomain.cloud/dax-noaa-weather-data-jfk-airport/1.1.4/noaa_weather.html) \n",
    "\n",
    "For more information about the dataset, checkout the [preview](https://dax-cdn.cdn.appdomain.cloud/dax-noaa-weather-data-jfk-airport/1.1.4/data-preview/index.html?_ga=2.176781478.281508226.1616293518-1509963377.1616117067&cm_mc_uid=90945889198916153255549&cm_mc_sid_50200000=64650651616293516933) of NOAA Weather - JFK Airport.\n"
   ]
  },
  {
   "cell_type": "markdown",
   "metadata": {},
   "source": [
    "<a id=\"cell1\"></a>\n",
    "\n",
    "## 1. Download NOAA Weather Dataset\n",
    "\n",
    "Use the `download.file()` function to download the sample dataset from the URL below.\n",
    "\n",
    "URL = 'https://dax-cdn.cdn.appdomain.cloud/dax-noaa-weather-data-jfk-airport/1.1.4/noaa-weather-sample-data.tar.gz'\n"
   ]
  },
  {
   "cell_type": "code",
   "execution_count": 2,
   "metadata": {
    "tags": []
   },
   "outputs": [],
   "source": [
    "# url where the data is located\n",
    "url <- \"https://dax-cdn.cdn.appdomain.cloud/dax-noaa-weather-data-jfk-airport/1.1.4/noaa-weather-sample-data.tar.gz\"\n",
    "\n",
    "# download the file\n",
    "download.file(url, destfile = \"noaa-weather-sample-data.tar.gz\")"
   ]
  },
  {
   "cell_type": "markdown",
   "metadata": {},
   "source": [
    "Untar the zipped file.\n"
   ]
  },
  {
   "cell_type": "code",
   "execution_count": 3,
   "metadata": {
    "tags": []
   },
   "outputs": [
    {
     "name": "stderr",
     "output_type": "stream",
     "text": [
      "Warning message in untar2(tarfile, files, list, exdir, restore_times):\n",
      "\"using pax extended headers\"\n"
     ]
    }
   ],
   "source": [
    "# untar the file so we can get the csv only\n",
    "# if you run this on your local machine, then can remove tar = \"internal\" \n",
    "untar(\"noaa-weather-sample.tar.gz\", tar = \"internal\")\n"
   ]
  },
  {
   "cell_type": "markdown",
   "metadata": {},
   "source": [
    "<a id=\"cell2\"></a>\n",
    "## 2. Extract and Read into Project\n",
    "We start by reading in the raw dataset. You should specify the file name as \"noaa-weather-sample-data/jfk_weather_sample.csv\".\n"
   ]
  },
  {
   "cell_type": "code",
   "execution_count": 4,
   "metadata": {
    "tags": []
   },
   "outputs": [
    {
     "name": "stderr",
     "output_type": "stream",
     "text": [
      "\u001b[1mRows: \u001b[22m\u001b[34m5727\u001b[39m \u001b[1mColumns: \u001b[22m\u001b[34m9\u001b[39m\n",
      "\u001b[36m──\u001b[39m \u001b[1mColumn specification\u001b[22m \u001b[36m────────────────────────────────────────────────────────────────────────────────────────────────\u001b[39m\n",
      "\u001b[1mDelimiter:\u001b[22m \",\"\n",
      "\u001b[31mchr\u001b[39m  (1): HOURLYPrecip\n",
      "\u001b[32mdbl\u001b[39m  (7): HOURLYDewPointTempF, HOURLYRelativeHumidity, HOURLYDRYBULBTEMPF, H...\n",
      "\u001b[34mdttm\u001b[39m (1): DATE\n",
      "\n",
      "\u001b[36mℹ\u001b[39m Use `spec()` to retrieve the full column specification for this data.\n",
      "\u001b[36mℹ\u001b[39m Specify the column types or set `show_col_types = FALSE` to quiet this message.\n"
     ]
    }
   ],
   "source": [
    "# read_csv only \n",
    "weather_sample <- read_csv(\"noaa-weather-sample-data/jfk_weather_sample.csv\")"
   ]
  },
  {
   "cell_type": "markdown",
   "metadata": {},
   "source": [
    "Next, display the first few rows of the dataframe.\n"
   ]
  },
  {
   "cell_type": "code",
   "execution_count": 5,
   "metadata": {
    "tags": []
   },
   "outputs": [
    {
     "data": {
      "text/html": [
       "<table class=\"dataframe\">\n",
       "<caption>A tibble: 6 × 9</caption>\n",
       "<thead>\n",
       "\t<tr><th scope=col>DATE</th><th scope=col>HOURLYDewPointTempF</th><th scope=col>HOURLYRelativeHumidity</th><th scope=col>HOURLYDRYBULBTEMPF</th><th scope=col>HOURLYWETBULBTEMPF</th><th scope=col>HOURLYPrecip</th><th scope=col>HOURLYWindSpeed</th><th scope=col>HOURLYSeaLevelPressure</th><th scope=col>HOURLYStationPressure</th></tr>\n",
       "\t<tr><th scope=col>&lt;dttm&gt;</th><th scope=col>&lt;dbl&gt;</th><th scope=col>&lt;dbl&gt;</th><th scope=col>&lt;dbl&gt;</th><th scope=col>&lt;dbl&gt;</th><th scope=col>&lt;chr&gt;</th><th scope=col>&lt;dbl&gt;</th><th scope=col>&lt;dbl&gt;</th><th scope=col>&lt;dbl&gt;</th></tr>\n",
       "</thead>\n",
       "<tbody>\n",
       "\t<tr><td>2015-07-25 13:51:00</td><td>60</td><td>46</td><td>83</td><td>68</td><td>0.00</td><td>13</td><td>30.01</td><td>29.99</td></tr>\n",
       "\t<tr><td>2016-11-18 23:51:00</td><td>34</td><td>48</td><td>53</td><td>44</td><td>0.00</td><td> 6</td><td>30.05</td><td>30.03</td></tr>\n",
       "\t<tr><td>2013-01-06 08:51:00</td><td>33</td><td>89</td><td>36</td><td>35</td><td>0.00</td><td>13</td><td>30.14</td><td>30.12</td></tr>\n",
       "\t<tr><td>2011-01-27 16:51:00</td><td>18</td><td>48</td><td>36</td><td>30</td><td>0.00</td><td>14</td><td>29.82</td><td>29.80</td></tr>\n",
       "\t<tr><td>2015-01-03 12:16:00</td><td>27</td><td>61</td><td>39</td><td>34</td><td>T   </td><td>11</td><td>   NA</td><td>30.50</td></tr>\n",
       "\t<tr><td>2013-02-15 20:51:00</td><td>35</td><td>79</td><td>41</td><td>38</td><td>0.00</td><td> 6</td><td>29.94</td><td>29.92</td></tr>\n",
       "</tbody>\n",
       "</table>\n"
      ],
      "text/latex": [
       "A tibble: 6 × 9\n",
       "\\begin{tabular}{lllllllll}\n",
       " DATE & HOURLYDewPointTempF & HOURLYRelativeHumidity & HOURLYDRYBULBTEMPF & HOURLYWETBULBTEMPF & HOURLYPrecip & HOURLYWindSpeed & HOURLYSeaLevelPressure & HOURLYStationPressure\\\\\n",
       " <dttm> & <dbl> & <dbl> & <dbl> & <dbl> & <chr> & <dbl> & <dbl> & <dbl>\\\\\n",
       "\\hline\n",
       "\t 2015-07-25 13:51:00 & 60 & 46 & 83 & 68 & 0.00 & 13 & 30.01 & 29.99\\\\\n",
       "\t 2016-11-18 23:51:00 & 34 & 48 & 53 & 44 & 0.00 &  6 & 30.05 & 30.03\\\\\n",
       "\t 2013-01-06 08:51:00 & 33 & 89 & 36 & 35 & 0.00 & 13 & 30.14 & 30.12\\\\\n",
       "\t 2011-01-27 16:51:00 & 18 & 48 & 36 & 30 & 0.00 & 14 & 29.82 & 29.80\\\\\n",
       "\t 2015-01-03 12:16:00 & 27 & 61 & 39 & 34 & T    & 11 &    NA & 30.50\\\\\n",
       "\t 2013-02-15 20:51:00 & 35 & 79 & 41 & 38 & 0.00 &  6 & 29.94 & 29.92\\\\\n",
       "\\end{tabular}\n"
      ],
      "text/markdown": [
       "\n",
       "A tibble: 6 × 9\n",
       "\n",
       "| DATE &lt;dttm&gt; | HOURLYDewPointTempF &lt;dbl&gt; | HOURLYRelativeHumidity &lt;dbl&gt; | HOURLYDRYBULBTEMPF &lt;dbl&gt; | HOURLYWETBULBTEMPF &lt;dbl&gt; | HOURLYPrecip &lt;chr&gt; | HOURLYWindSpeed &lt;dbl&gt; | HOURLYSeaLevelPressure &lt;dbl&gt; | HOURLYStationPressure &lt;dbl&gt; |\n",
       "|---|---|---|---|---|---|---|---|---|\n",
       "| 2015-07-25 13:51:00 | 60 | 46 | 83 | 68 | 0.00 | 13 | 30.01 | 29.99 |\n",
       "| 2016-11-18 23:51:00 | 34 | 48 | 53 | 44 | 0.00 |  6 | 30.05 | 30.03 |\n",
       "| 2013-01-06 08:51:00 | 33 | 89 | 36 | 35 | 0.00 | 13 | 30.14 | 30.12 |\n",
       "| 2011-01-27 16:51:00 | 18 | 48 | 36 | 30 | 0.00 | 14 | 29.82 | 29.80 |\n",
       "| 2015-01-03 12:16:00 | 27 | 61 | 39 | 34 | T    | 11 |    NA | 30.50 |\n",
       "| 2013-02-15 20:51:00 | 35 | 79 | 41 | 38 | 0.00 |  6 | 29.94 | 29.92 |\n",
       "\n"
      ],
      "text/plain": [
       "  DATE                HOURLYDewPointTempF HOURLYRelativeHumidity\n",
       "1 2015-07-25 13:51:00 60                  46                    \n",
       "2 2016-11-18 23:51:00 34                  48                    \n",
       "3 2013-01-06 08:51:00 33                  89                    \n",
       "4 2011-01-27 16:51:00 18                  48                    \n",
       "5 2015-01-03 12:16:00 27                  61                    \n",
       "6 2013-02-15 20:51:00 35                  79                    \n",
       "  HOURLYDRYBULBTEMPF HOURLYWETBULBTEMPF HOURLYPrecip HOURLYWindSpeed\n",
       "1 83                 68                 0.00         13             \n",
       "2 53                 44                 0.00          6             \n",
       "3 36                 35                 0.00         13             \n",
       "4 36                 30                 0.00         14             \n",
       "5 39                 34                 T            11             \n",
       "6 41                 38                 0.00          6             \n",
       "  HOURLYSeaLevelPressure HOURLYStationPressure\n",
       "1 30.01                  29.99                \n",
       "2 30.05                  30.03                \n",
       "3 30.14                  30.12                \n",
       "4 29.82                  29.80                \n",
       "5    NA                  30.50                \n",
       "6 29.94                  29.92                "
      ]
     },
     "metadata": {},
     "output_type": "display_data"
    }
   ],
   "source": [
    "head(weather_sample)"
   ]
  },
  {
   "cell_type": "markdown",
   "metadata": {},
   "source": [
    "Also, take a `glimpse` of the dataset to see the different column data types and make sure it is the correct subset dataset with about 5700 rows and 9 columns.\n"
   ]
  },
  {
   "cell_type": "code",
   "execution_count": 6,
   "metadata": {
    "tags": []
   },
   "outputs": [
    {
     "name": "stdout",
     "output_type": "stream",
     "text": [
      "Rows: 5,727\n",
      "Columns: 9\n",
      "$ DATE                   \u001b[3m\u001b[90m<dttm>\u001b[39m\u001b[23m 2015-07-25 13:51:00, 2016-11-18 23:51:00, 2013…\n",
      "$ HOURLYDewPointTempF    \u001b[3m\u001b[90m<dbl>\u001b[39m\u001b[23m 60, 34, 33, 18, 27, 35, 4, 14, 51, 71, 76, 19, …\n",
      "$ HOURLYRelativeHumidity \u001b[3m\u001b[90m<dbl>\u001b[39m\u001b[23m 46, 48, 89, 48, 61, 79, 51, 65, 90, 94, 79, 37,…\n",
      "$ HOURLYDRYBULBTEMPF     \u001b[3m\u001b[90m<dbl>\u001b[39m\u001b[23m 83, 53, 36, 36, 39, 41, 19, 24, 54, 73, 83, 44,…\n",
      "$ HOURLYWETBULBTEMPF     \u001b[3m\u001b[90m<dbl>\u001b[39m\u001b[23m 68, 44, 35, 30, 34, 38, 15, 21, 52, 72, 78, 35,…\n",
      "$ HOURLYPrecip           \u001b[3m\u001b[90m<chr>\u001b[39m\u001b[23m \"0.00\", \"0.00\", \"0.00\", \"0.00\", \"T\", \"0.00\", \"0…\n",
      "$ HOURLYWindSpeed        \u001b[3m\u001b[90m<dbl>\u001b[39m\u001b[23m 13, 6, 13, 14, 11, 6, 0, 11, 11, 5, 21, 7, 17, …\n",
      "$ HOURLYSeaLevelPressure \u001b[3m\u001b[90m<dbl>\u001b[39m\u001b[23m 30.01, 30.05, 30.14, 29.82, NA, 29.94, 30.42, 3…\n",
      "$ HOURLYStationPressure  \u001b[3m\u001b[90m<dbl>\u001b[39m\u001b[23m 29.99, 30.03, 30.12, 29.80, 30.50, 29.92, 30.40…\n"
     ]
    }
   ],
   "source": [
    "glimpse(weather_sample)"
   ]
  },
  {
   "cell_type": "markdown",
   "metadata": {},
   "source": [
    "<a id=\"cell3\"></a>\n",
    "## 3. Select Subset of Columns\n",
    "\n",
    "The end goal of this project will be to predict `HOURLYprecip` (precipitation) using a few other variables. Before you can do this, you first need to preprocess the dataset. Section 3 to section 6 focuses on preprocessing.\n",
    "\n",
    "The first step in preprocessing is to select a subset of data columns and inspect the column types.\n",
    "\n",
    "The key columns that we will explore in this project are:\n",
    "- HOURLYRelativeHumidity\n",
    "- HOURLYDRYBULBTEMPF\n",
    "- HOURLYPrecip\n",
    "- HOURLYWindSpeed\n",
    "- HOURLYStationPressure\n",
    "\n",
    "Data Glossary:\n",
    "- 'HOURLYRelativeHumidity' is the relative humidity given to the nearest whole percentage.\n",
    "- 'HOURLYDRYBULBTEMPF' is the dry-bulb temperature and is commonly used as the standard air temperature reported. It is given here in whole degrees Fahrenheit.\n",
    "- 'HOURLYPrecip' is the amount of precipitation in inches to hundredths over the past hour. For certain automated stations, precipitation will be reported at sub-hourly intervals (e.g. every 15 or 20 minutes) as an accumulated amount of all precipitation within the preceding hour. A “T” indicates a trace amount of precipitation.\n",
    "- 'HOURLYWindSpeed' is the speed of the wind at the time of observation given in miles per hour (mph).\n",
    "- 'HOURLYStationPressure' is the atmospheric pressure observed at the station during the time of observation. Given in inches of Mercury (in Hg).\n",
    "\n",
    "`Select` those five columns and store the modified dataframe as a new variable.\n"
   ]
  },
  {
   "cell_type": "code",
   "execution_count": 7,
   "metadata": {},
   "outputs": [],
   "source": [
    "weather_subset <- weather_sample %>%\n",
    "                    select(c(HOURLYRelativeHumidity, HOURLYDRYBULBTEMPF, HOURLYPrecip, HOURLYWindSpeed, HOURLYStationPressure))"
   ]
  },
  {
   "cell_type": "markdown",
   "metadata": {},
   "source": [
    "Show the first 10 rows of this new dataframe.\n"
   ]
  },
  {
   "cell_type": "code",
   "execution_count": 8,
   "metadata": {},
   "outputs": [
    {
     "data": {
      "text/html": [
       "<table class=\"dataframe\">\n",
       "<caption>A tibble: 10 × 5</caption>\n",
       "<thead>\n",
       "\t<tr><th scope=col>HOURLYRelativeHumidity</th><th scope=col>HOURLYDRYBULBTEMPF</th><th scope=col>HOURLYPrecip</th><th scope=col>HOURLYWindSpeed</th><th scope=col>HOURLYStationPressure</th></tr>\n",
       "\t<tr><th scope=col>&lt;dbl&gt;</th><th scope=col>&lt;dbl&gt;</th><th scope=col>&lt;chr&gt;</th><th scope=col>&lt;dbl&gt;</th><th scope=col>&lt;dbl&gt;</th></tr>\n",
       "</thead>\n",
       "<tbody>\n",
       "\t<tr><td>46</td><td>83</td><td>0.00</td><td>13</td><td>29.99</td></tr>\n",
       "\t<tr><td>48</td><td>53</td><td>0.00</td><td> 6</td><td>30.03</td></tr>\n",
       "\t<tr><td>89</td><td>36</td><td>0.00</td><td>13</td><td>30.12</td></tr>\n",
       "\t<tr><td>48</td><td>36</td><td>0.00</td><td>14</td><td>29.80</td></tr>\n",
       "\t<tr><td>61</td><td>39</td><td>T   </td><td>11</td><td>30.50</td></tr>\n",
       "\t<tr><td>79</td><td>41</td><td>0.00</td><td> 6</td><td>29.92</td></tr>\n",
       "\t<tr><td>51</td><td>19</td><td>0.00</td><td> 0</td><td>30.40</td></tr>\n",
       "\t<tr><td>65</td><td>24</td><td>0.00</td><td>11</td><td>30.35</td></tr>\n",
       "\t<tr><td>90</td><td>54</td><td>0.06</td><td>11</td><td>30.03</td></tr>\n",
       "\t<tr><td>94</td><td>73</td><td>NA  </td><td> 5</td><td>29.91</td></tr>\n",
       "</tbody>\n",
       "</table>\n"
      ],
      "text/latex": [
       "A tibble: 10 × 5\n",
       "\\begin{tabular}{lllll}\n",
       " HOURLYRelativeHumidity & HOURLYDRYBULBTEMPF & HOURLYPrecip & HOURLYWindSpeed & HOURLYStationPressure\\\\\n",
       " <dbl> & <dbl> & <chr> & <dbl> & <dbl>\\\\\n",
       "\\hline\n",
       "\t 46 & 83 & 0.00 & 13 & 29.99\\\\\n",
       "\t 48 & 53 & 0.00 &  6 & 30.03\\\\\n",
       "\t 89 & 36 & 0.00 & 13 & 30.12\\\\\n",
       "\t 48 & 36 & 0.00 & 14 & 29.80\\\\\n",
       "\t 61 & 39 & T    & 11 & 30.50\\\\\n",
       "\t 79 & 41 & 0.00 &  6 & 29.92\\\\\n",
       "\t 51 & 19 & 0.00 &  0 & 30.40\\\\\n",
       "\t 65 & 24 & 0.00 & 11 & 30.35\\\\\n",
       "\t 90 & 54 & 0.06 & 11 & 30.03\\\\\n",
       "\t 94 & 73 & NA   &  5 & 29.91\\\\\n",
       "\\end{tabular}\n"
      ],
      "text/markdown": [
       "\n",
       "A tibble: 10 × 5\n",
       "\n",
       "| HOURLYRelativeHumidity &lt;dbl&gt; | HOURLYDRYBULBTEMPF &lt;dbl&gt; | HOURLYPrecip &lt;chr&gt; | HOURLYWindSpeed &lt;dbl&gt; | HOURLYStationPressure &lt;dbl&gt; |\n",
       "|---|---|---|---|---|\n",
       "| 46 | 83 | 0.00 | 13 | 29.99 |\n",
       "| 48 | 53 | 0.00 |  6 | 30.03 |\n",
       "| 89 | 36 | 0.00 | 13 | 30.12 |\n",
       "| 48 | 36 | 0.00 | 14 | 29.80 |\n",
       "| 61 | 39 | T    | 11 | 30.50 |\n",
       "| 79 | 41 | 0.00 |  6 | 29.92 |\n",
       "| 51 | 19 | 0.00 |  0 | 30.40 |\n",
       "| 65 | 24 | 0.00 | 11 | 30.35 |\n",
       "| 90 | 54 | 0.06 | 11 | 30.03 |\n",
       "| 94 | 73 | NA   |  5 | 29.91 |\n",
       "\n"
      ],
      "text/plain": [
       "   HOURLYRelativeHumidity HOURLYDRYBULBTEMPF HOURLYPrecip HOURLYWindSpeed\n",
       "1  46                     83                 0.00         13             \n",
       "2  48                     53                 0.00          6             \n",
       "3  89                     36                 0.00         13             \n",
       "4  48                     36                 0.00         14             \n",
       "5  61                     39                 T            11             \n",
       "6  79                     41                 0.00          6             \n",
       "7  51                     19                 0.00          0             \n",
       "8  65                     24                 0.00         11             \n",
       "9  90                     54                 0.06         11             \n",
       "10 94                     73                 NA            5             \n",
       "   HOURLYStationPressure\n",
       "1  29.99                \n",
       "2  30.03                \n",
       "3  30.12                \n",
       "4  29.80                \n",
       "5  30.50                \n",
       "6  29.92                \n",
       "7  30.40                \n",
       "8  30.35                \n",
       "9  30.03                \n",
       "10 29.91                "
      ]
     },
     "metadata": {},
     "output_type": "display_data"
    }
   ],
   "source": [
    "head(weather_subset, 10)"
   ]
  },
  {
   "cell_type": "markdown",
   "metadata": {},
   "source": [
    "<a id=\"cell4\"></a>\n",
    "## 4. Clean Up Columns\n",
    "\n",
    "From the dataframe preview above, we can see that the column `HOURLYPrecip` - which is the hourly measure of precipitation levels - contains both `NA` and `T` values. `T` specifies *trace amounts of precipitation* (meaning essentially no precipitation), while `NA` means *not available*, and is used to denote missing values. Additionally, some values also have \"s\" at the end of them, indicating that the precipitation was snow. \n",
    "\n",
    "Inspect the unique values present in the column `HOURLYPrecip` (with `unique(dataframe$column)`) to see these values.\n"
   ]
  },
  {
   "cell_type": "code",
   "execution_count": 9,
   "metadata": {},
   "outputs": [
    {
     "data": {
      "text/html": [
       "<style>\n",
       ".list-inline {list-style: none; margin:0; padding: 0}\n",
       ".list-inline>li {display: inline-block}\n",
       ".list-inline>li:not(:last-child)::after {content: \"\\00b7\"; padding: 0 .5ex}\n",
       "</style>\n",
       "<ol class=list-inline><li>'0.00'</li><li>'T'</li><li>'0.06'</li><li>NA</li><li>'0.03'</li><li>'0.02'</li><li>'0.08'</li><li>'0.01'</li><li>'0.07'</li><li>'0.16'</li><li>'0.09'</li><li>'0.22'</li><li>'0.02s'</li><li>'0.24'</li><li>'0.18'</li><li>'0.05'</li><li>'0.04'</li><li>'0.09s'</li><li>'0.11'</li><li>'0.14'</li><li>'0.25'</li><li>'0.10'</li><li>'0.01s'</li><li>'0.58'</li><li>'0.12'</li><li>'0.13'</li><li>'0.46'</li><li>'1.07'</li><li>'1.19'</li><li>'0.34'</li><li>'0.20'</li><li>'0.36s'</li><li>'0.42'</li><li>'0.17'</li><li>'0.27'</li><li>'0.35'</li><li>'0.31'</li><li>'0.33'</li><li>'0.23'</li><li>'0.26'</li><li>'0.28'</li><li>'0.75'</li><li>'0.19'</li><li>'0.36'</li><li>'0.03s'</li><li>'0.07s'</li><li>'0.54'</li><li>'0.59'</li><li>'0.21'</li></ol>\n"
      ],
      "text/latex": [
       "\\begin{enumerate*}\n",
       "\\item '0.00'\n",
       "\\item 'T'\n",
       "\\item '0.06'\n",
       "\\item NA\n",
       "\\item '0.03'\n",
       "\\item '0.02'\n",
       "\\item '0.08'\n",
       "\\item '0.01'\n",
       "\\item '0.07'\n",
       "\\item '0.16'\n",
       "\\item '0.09'\n",
       "\\item '0.22'\n",
       "\\item '0.02s'\n",
       "\\item '0.24'\n",
       "\\item '0.18'\n",
       "\\item '0.05'\n",
       "\\item '0.04'\n",
       "\\item '0.09s'\n",
       "\\item '0.11'\n",
       "\\item '0.14'\n",
       "\\item '0.25'\n",
       "\\item '0.10'\n",
       "\\item '0.01s'\n",
       "\\item '0.58'\n",
       "\\item '0.12'\n",
       "\\item '0.13'\n",
       "\\item '0.46'\n",
       "\\item '1.07'\n",
       "\\item '1.19'\n",
       "\\item '0.34'\n",
       "\\item '0.20'\n",
       "\\item '0.36s'\n",
       "\\item '0.42'\n",
       "\\item '0.17'\n",
       "\\item '0.27'\n",
       "\\item '0.35'\n",
       "\\item '0.31'\n",
       "\\item '0.33'\n",
       "\\item '0.23'\n",
       "\\item '0.26'\n",
       "\\item '0.28'\n",
       "\\item '0.75'\n",
       "\\item '0.19'\n",
       "\\item '0.36'\n",
       "\\item '0.03s'\n",
       "\\item '0.07s'\n",
       "\\item '0.54'\n",
       "\\item '0.59'\n",
       "\\item '0.21'\n",
       "\\end{enumerate*}\n"
      ],
      "text/markdown": [
       "1. '0.00'\n",
       "2. 'T'\n",
       "3. '0.06'\n",
       "4. NA\n",
       "5. '0.03'\n",
       "6. '0.02'\n",
       "7. '0.08'\n",
       "8. '0.01'\n",
       "9. '0.07'\n",
       "10. '0.16'\n",
       "11. '0.09'\n",
       "12. '0.22'\n",
       "13. '0.02s'\n",
       "14. '0.24'\n",
       "15. '0.18'\n",
       "16. '0.05'\n",
       "17. '0.04'\n",
       "18. '0.09s'\n",
       "19. '0.11'\n",
       "20. '0.14'\n",
       "21. '0.25'\n",
       "22. '0.10'\n",
       "23. '0.01s'\n",
       "24. '0.58'\n",
       "25. '0.12'\n",
       "26. '0.13'\n",
       "27. '0.46'\n",
       "28. '1.07'\n",
       "29. '1.19'\n",
       "30. '0.34'\n",
       "31. '0.20'\n",
       "32. '0.36s'\n",
       "33. '0.42'\n",
       "34. '0.17'\n",
       "35. '0.27'\n",
       "36. '0.35'\n",
       "37. '0.31'\n",
       "38. '0.33'\n",
       "39. '0.23'\n",
       "40. '0.26'\n",
       "41. '0.28'\n",
       "42. '0.75'\n",
       "43. '0.19'\n",
       "44. '0.36'\n",
       "45. '0.03s'\n",
       "46. '0.07s'\n",
       "47. '0.54'\n",
       "48. '0.59'\n",
       "49. '0.21'\n",
       "\n",
       "\n"
      ],
      "text/plain": [
       " [1] \"0.00\"  \"T\"     \"0.06\"  NA      \"0.03\"  \"0.02\"  \"0.08\"  \"0.01\"  \"0.07\" \n",
       "[10] \"0.16\"  \"0.09\"  \"0.22\"  \"0.02s\" \"0.24\"  \"0.18\"  \"0.05\"  \"0.04\"  \"0.09s\"\n",
       "[19] \"0.11\"  \"0.14\"  \"0.25\"  \"0.10\"  \"0.01s\" \"0.58\"  \"0.12\"  \"0.13\"  \"0.46\" \n",
       "[28] \"1.07\"  \"1.19\"  \"0.34\"  \"0.20\"  \"0.36s\" \"0.42\"  \"0.17\"  \"0.27\"  \"0.35\" \n",
       "[37] \"0.31\"  \"0.33\"  \"0.23\"  \"0.26\"  \"0.28\"  \"0.75\"  \"0.19\"  \"0.36\"  \"0.03s\"\n",
       "[46] \"0.07s\" \"0.54\"  \"0.59\"  \"0.21\" "
      ]
     },
     "metadata": {},
     "output_type": "display_data"
    }
   ],
   "source": [
    "unique(weather_subset$HOURLYPrecip)"
   ]
  },
  {
   "cell_type": "markdown",
   "metadata": {},
   "source": [
    "Having characters in values (like the \"T\" and \"s\" that you see in the unique values) will cause problems when you create a model because values for precipitation should be numerical. So you need to fix these values that have characters. \n",
    "\n",
    "Now, for the column `HOURLYPrecip`:\n",
    "1. Replace all the `T` values with \"0.0\" and \n",
    "2. Remove \"s\" from values like \"0.02s\". In R, you can use the method `str_remove(column, pattern = \"s$\")` to remove the character \"s\" from the end of values. The \"$\" tells R to match to the end of values. The `pattern` is a regex pattern. Look at [here](https://www.rdocumentation.org/packages/stringi/versions/1.5.3/topics/about_search_regex?utm_medium=Exinfluencer&utm_source=Exinfluencer&utm_content=000026UJ&utm_term=10006555&utm_id=NA-SkillsNetwork-Channel-SkillsNetworkCoursesIBMDA0151ENSkillsNetwork926-2022-01-01) for more information about regex and matching to strings in R.\n",
    "\n",
    "Remember that you can use `tidyverse`'s  `mutate()` to update columns.\n",
    "\n",
    "You can check your work by checking if unique values of `HOURLYPrecip` still contain any `T` or `s`. Store the modified dataframe as a new variable.\n"
   ]
  },
  {
   "cell_type": "code",
   "execution_count": 10,
   "metadata": {},
   "outputs": [],
   "source": [
    "\n",
    "weather_subset <- weather_subset %>%\n",
    "                mutate(HOURLYPrecip =str_replace(HOURLYPrecip, \"T\", \"0.0\")) %>%\n",
    "                mutate(HOURLYPrecip =str_remove(HOURLYPrecip, pattern = \"s$\"))\n",
    "                                "
   ]
  },
  {
   "cell_type": "markdown",
   "metadata": {},
   "source": [
    "<a id=\"cell5\"></a>\n",
    "## 5. Convert Columns to Numerical Types\n",
    "Now that you have removed the characters in the `HOURLYPrecip` column, you can safely covert the column to a numeric type.\n",
    "\n",
    "First, check the types of the columns. You will notice that all are `dbl` (double or numeric) except for `HOURLYPrecip`, which is `chr` (character or string). Use the `glimpse` function from Tidyverse.\n"
   ]
  },
  {
   "cell_type": "code",
   "execution_count": 11,
   "metadata": {},
   "outputs": [
    {
     "name": "stdout",
     "output_type": "stream",
     "text": [
      "Rows: 5,727\n",
      "Columns: 5\n",
      "$ HOURLYRelativeHumidity \u001b[3m\u001b[90m<dbl>\u001b[39m\u001b[23m 46, 48, 89, 48, 61, 79, 51, 65, 90, 94, 79, 37,…\n",
      "$ HOURLYDRYBULBTEMPF     \u001b[3m\u001b[90m<dbl>\u001b[39m\u001b[23m 83, 53, 36, 36, 39, 41, 19, 24, 54, 73, 83, 44,…\n",
      "$ HOURLYPrecip           \u001b[3m\u001b[90m<chr>\u001b[39m\u001b[23m \"0.00\", \"0.00\", \"0.00\", \"0.00\", \"0.0\", \"0.00\", …\n",
      "$ HOURLYWindSpeed        \u001b[3m\u001b[90m<dbl>\u001b[39m\u001b[23m 13, 6, 13, 14, 11, 6, 0, 11, 11, 5, 21, 7, 17, …\n",
      "$ HOURLYStationPressure  \u001b[3m\u001b[90m<dbl>\u001b[39m\u001b[23m 29.99, 30.03, 30.12, 29.80, 30.50, 29.92, 30.40…\n"
     ]
    }
   ],
   "source": [
    "glimpse(weather_subset)"
   ]
  },
  {
   "cell_type": "markdown",
   "metadata": {},
   "source": [
    "Convert `HOURLYPrecip` to the `numeric` type and store the cleaned dataframe as a new variable.\n"
   ]
  },
  {
   "cell_type": "code",
   "execution_count": 12,
   "metadata": {},
   "outputs": [],
   "source": [
    "weather_subset2 <- transform(weather_subset, HOURLYPrecip = as.numeric(HOURLYPrecip))"
   ]
  },
  {
   "cell_type": "markdown",
   "metadata": {},
   "source": [
    "We can now see that all fields have numerical data type.\n"
   ]
  },
  {
   "cell_type": "code",
   "execution_count": 13,
   "metadata": {},
   "outputs": [
    {
     "data": {
      "text/html": [
       "<table class=\"dataframe\">\n",
       "<caption>A data.frame: 10 × 5</caption>\n",
       "<thead>\n",
       "\t<tr><th></th><th scope=col>HOURLYRelativeHumidity</th><th scope=col>HOURLYDRYBULBTEMPF</th><th scope=col>HOURLYPrecip</th><th scope=col>HOURLYWindSpeed</th><th scope=col>HOURLYStationPressure</th></tr>\n",
       "\t<tr><th></th><th scope=col>&lt;dbl&gt;</th><th scope=col>&lt;dbl&gt;</th><th scope=col>&lt;dbl&gt;</th><th scope=col>&lt;dbl&gt;</th><th scope=col>&lt;dbl&gt;</th></tr>\n",
       "</thead>\n",
       "<tbody>\n",
       "\t<tr><th scope=row>1</th><td>46</td><td>83</td><td>0.00</td><td>13</td><td>29.99</td></tr>\n",
       "\t<tr><th scope=row>2</th><td>48</td><td>53</td><td>0.00</td><td> 6</td><td>30.03</td></tr>\n",
       "\t<tr><th scope=row>3</th><td>89</td><td>36</td><td>0.00</td><td>13</td><td>30.12</td></tr>\n",
       "\t<tr><th scope=row>4</th><td>48</td><td>36</td><td>0.00</td><td>14</td><td>29.80</td></tr>\n",
       "\t<tr><th scope=row>5</th><td>61</td><td>39</td><td>0.00</td><td>11</td><td>30.50</td></tr>\n",
       "\t<tr><th scope=row>6</th><td>79</td><td>41</td><td>0.00</td><td> 6</td><td>29.92</td></tr>\n",
       "\t<tr><th scope=row>7</th><td>51</td><td>19</td><td>0.00</td><td> 0</td><td>30.40</td></tr>\n",
       "\t<tr><th scope=row>8</th><td>65</td><td>24</td><td>0.00</td><td>11</td><td>30.35</td></tr>\n",
       "\t<tr><th scope=row>9</th><td>90</td><td>54</td><td>0.06</td><td>11</td><td>30.03</td></tr>\n",
       "\t<tr><th scope=row>10</th><td>94</td><td>73</td><td>  NA</td><td> 5</td><td>29.91</td></tr>\n",
       "</tbody>\n",
       "</table>\n"
      ],
      "text/latex": [
       "A data.frame: 10 × 5\n",
       "\\begin{tabular}{r|lllll}\n",
       "  & HOURLYRelativeHumidity & HOURLYDRYBULBTEMPF & HOURLYPrecip & HOURLYWindSpeed & HOURLYStationPressure\\\\\n",
       "  & <dbl> & <dbl> & <dbl> & <dbl> & <dbl>\\\\\n",
       "\\hline\n",
       "\t1 & 46 & 83 & 0.00 & 13 & 29.99\\\\\n",
       "\t2 & 48 & 53 & 0.00 &  6 & 30.03\\\\\n",
       "\t3 & 89 & 36 & 0.00 & 13 & 30.12\\\\\n",
       "\t4 & 48 & 36 & 0.00 & 14 & 29.80\\\\\n",
       "\t5 & 61 & 39 & 0.00 & 11 & 30.50\\\\\n",
       "\t6 & 79 & 41 & 0.00 &  6 & 29.92\\\\\n",
       "\t7 & 51 & 19 & 0.00 &  0 & 30.40\\\\\n",
       "\t8 & 65 & 24 & 0.00 & 11 & 30.35\\\\\n",
       "\t9 & 90 & 54 & 0.06 & 11 & 30.03\\\\\n",
       "\t10 & 94 & 73 &   NA &  5 & 29.91\\\\\n",
       "\\end{tabular}\n"
      ],
      "text/markdown": [
       "\n",
       "A data.frame: 10 × 5\n",
       "\n",
       "| <!--/--> | HOURLYRelativeHumidity &lt;dbl&gt; | HOURLYDRYBULBTEMPF &lt;dbl&gt; | HOURLYPrecip &lt;dbl&gt; | HOURLYWindSpeed &lt;dbl&gt; | HOURLYStationPressure &lt;dbl&gt; |\n",
       "|---|---|---|---|---|---|\n",
       "| 1 | 46 | 83 | 0.00 | 13 | 29.99 |\n",
       "| 2 | 48 | 53 | 0.00 |  6 | 30.03 |\n",
       "| 3 | 89 | 36 | 0.00 | 13 | 30.12 |\n",
       "| 4 | 48 | 36 | 0.00 | 14 | 29.80 |\n",
       "| 5 | 61 | 39 | 0.00 | 11 | 30.50 |\n",
       "| 6 | 79 | 41 | 0.00 |  6 | 29.92 |\n",
       "| 7 | 51 | 19 | 0.00 |  0 | 30.40 |\n",
       "| 8 | 65 | 24 | 0.00 | 11 | 30.35 |\n",
       "| 9 | 90 | 54 | 0.06 | 11 | 30.03 |\n",
       "| 10 | 94 | 73 |   NA |  5 | 29.91 |\n",
       "\n"
      ],
      "text/plain": [
       "   HOURLYRelativeHumidity HOURLYDRYBULBTEMPF HOURLYPrecip HOURLYWindSpeed\n",
       "1  46                     83                 0.00         13             \n",
       "2  48                     53                 0.00          6             \n",
       "3  89                     36                 0.00         13             \n",
       "4  48                     36                 0.00         14             \n",
       "5  61                     39                 0.00         11             \n",
       "6  79                     41                 0.00          6             \n",
       "7  51                     19                 0.00          0             \n",
       "8  65                     24                 0.00         11             \n",
       "9  90                     54                 0.06         11             \n",
       "10 94                     73                   NA          5             \n",
       "   HOURLYStationPressure\n",
       "1  29.99                \n",
       "2  30.03                \n",
       "3  30.12                \n",
       "4  29.80                \n",
       "5  30.50                \n",
       "6  29.92                \n",
       "7  30.40                \n",
       "8  30.35                \n",
       "9  30.03                \n",
       "10 29.91                "
      ]
     },
     "metadata": {},
     "output_type": "display_data"
    }
   ],
   "source": [
    "head(weather_subset2, 10)"
   ]
  },
  {
   "cell_type": "markdown",
   "metadata": {},
   "source": [
    "<a id=\"cell6\"></a>\n",
    "## 6. Rename Columns\n",
    "Let's rename the following columns as:\n",
    "- 'HOURLYRelativeHumidity' to 'relative_humidity'\n",
    "- 'HOURLYDRYBULBTEMPF' to 'dry_bulb_temp_f'\n",
    "- 'HOURLYPrecip' to 'precip'\n",
    "- 'HOURLYWindSpeed' to 'wind_speed'\n",
    "- 'HOURLYStationPressure' to 'station_pressure'\n",
    "\n",
    "You can use `dplyr::rename()`. Then, store the final dataframe as a new variable.\n"
   ]
  },
  {
   "cell_type": "code",
   "execution_count": 14,
   "metadata": {},
   "outputs": [
    {
     "data": {
      "text/html": [
       "<table class=\"dataframe\">\n",
       "<caption>A data.frame: 6 × 5</caption>\n",
       "<thead>\n",
       "\t<tr><th></th><th scope=col>relative_humidity</th><th scope=col>dry_bulb_temp_f</th><th scope=col>precip</th><th scope=col>wind_speed</th><th scope=col>station_pressure</th></tr>\n",
       "\t<tr><th></th><th scope=col>&lt;dbl&gt;</th><th scope=col>&lt;dbl&gt;</th><th scope=col>&lt;dbl&gt;</th><th scope=col>&lt;dbl&gt;</th><th scope=col>&lt;dbl&gt;</th></tr>\n",
       "</thead>\n",
       "<tbody>\n",
       "\t<tr><th scope=row>1</th><td>46</td><td>83</td><td>0</td><td>13</td><td>29.99</td></tr>\n",
       "\t<tr><th scope=row>2</th><td>48</td><td>53</td><td>0</td><td> 6</td><td>30.03</td></tr>\n",
       "\t<tr><th scope=row>3</th><td>89</td><td>36</td><td>0</td><td>13</td><td>30.12</td></tr>\n",
       "\t<tr><th scope=row>4</th><td>48</td><td>36</td><td>0</td><td>14</td><td>29.80</td></tr>\n",
       "\t<tr><th scope=row>5</th><td>61</td><td>39</td><td>0</td><td>11</td><td>30.50</td></tr>\n",
       "\t<tr><th scope=row>6</th><td>79</td><td>41</td><td>0</td><td> 6</td><td>29.92</td></tr>\n",
       "</tbody>\n",
       "</table>\n"
      ],
      "text/latex": [
       "A data.frame: 6 × 5\n",
       "\\begin{tabular}{r|lllll}\n",
       "  & relative\\_humidity & dry\\_bulb\\_temp\\_f & precip & wind\\_speed & station\\_pressure\\\\\n",
       "  & <dbl> & <dbl> & <dbl> & <dbl> & <dbl>\\\\\n",
       "\\hline\n",
       "\t1 & 46 & 83 & 0 & 13 & 29.99\\\\\n",
       "\t2 & 48 & 53 & 0 &  6 & 30.03\\\\\n",
       "\t3 & 89 & 36 & 0 & 13 & 30.12\\\\\n",
       "\t4 & 48 & 36 & 0 & 14 & 29.80\\\\\n",
       "\t5 & 61 & 39 & 0 & 11 & 30.50\\\\\n",
       "\t6 & 79 & 41 & 0 &  6 & 29.92\\\\\n",
       "\\end{tabular}\n"
      ],
      "text/markdown": [
       "\n",
       "A data.frame: 6 × 5\n",
       "\n",
       "| <!--/--> | relative_humidity &lt;dbl&gt; | dry_bulb_temp_f &lt;dbl&gt; | precip &lt;dbl&gt; | wind_speed &lt;dbl&gt; | station_pressure &lt;dbl&gt; |\n",
       "|---|---|---|---|---|---|\n",
       "| 1 | 46 | 83 | 0 | 13 | 29.99 |\n",
       "| 2 | 48 | 53 | 0 |  6 | 30.03 |\n",
       "| 3 | 89 | 36 | 0 | 13 | 30.12 |\n",
       "| 4 | 48 | 36 | 0 | 14 | 29.80 |\n",
       "| 5 | 61 | 39 | 0 | 11 | 30.50 |\n",
       "| 6 | 79 | 41 | 0 |  6 | 29.92 |\n",
       "\n"
      ],
      "text/plain": [
       "  relative_humidity dry_bulb_temp_f precip wind_speed station_pressure\n",
       "1 46                83              0      13         29.99           \n",
       "2 48                53              0       6         30.03           \n",
       "3 89                36              0      13         30.12           \n",
       "4 48                36              0      14         29.80           \n",
       "5 61                39              0      11         30.50           \n",
       "6 79                41              0       6         29.92           "
      ]
     },
     "metadata": {},
     "output_type": "display_data"
    }
   ],
   "source": [
    "final_weather_subset <- weather_subset2 %>%\n",
    "                    rename(\n",
    "                    \"relative_humidity\" = \"HOURLYRelativeHumidity\"  \n",
    "                    ,\"dry_bulb_temp_f\" = \"HOURLYDRYBULBTEMPF\" \n",
    "                    ,\"precip\" = \"HOURLYPrecip\"  \n",
    "                    ,\"wind_speed\" = \"HOURLYWindSpeed\"\n",
    "                    ,\"station_pressure\" = \"HOURLYStationPressure\" \n",
    "                    )\n",
    "head(final_weather_subset)"
   ]
  },
  {
   "cell_type": "markdown",
   "metadata": {},
   "source": [
    "<a id=\"cell7\"></a>\n",
    "## 7. Exploratory Data Analysis\n",
    "Now that you have finished preprocessing the dataset, you can can start exploring the columns more.\n",
    "\n",
    "First, split the data into a training and testing set. Splitting a dataset is done randomly, so to have reproducible results set the seed = 1234. Also, use 80% of the data for training.\n"
   ]
  },
  {
   "cell_type": "code",
   "execution_count": 15,
   "metadata": {},
   "outputs": [],
   "source": [
    "set.seed(1234)\n",
    "weather_split <- initial_split(final_weather_subset,0.8)\n",
    "train_data <- training(weather_split)\n",
    "test_data <- testing(weather_split)"
   ]
  },
  {
   "cell_type": "code",
   "execution_count": 16,
   "metadata": {
    "tags": []
   },
   "outputs": [
    {
     "name": "stderr",
     "output_type": "stream",
     "text": [
      "\n",
      "Attaching package: 'gridExtra'\n",
      "\n",
      "\n",
      "The following object is masked from 'package:dplyr':\n",
      "\n",
      "    combine\n",
      "\n",
      "\n"
     ]
    }
   ],
   "source": [
    "library(gridExtra)"
   ]
  },
  {
   "cell_type": "markdown",
   "metadata": {},
   "source": [
    "Next, looking at just the **training set**, plot histograms or box plots of the variables (`relative_humidity`, `dry_bulb_temp_f`, `precip`, `wind_speed`,  `station_pressure`) for an intial look of their distributions using `tidyverse`'s `ggplot`. Leave the testing set as is because it is good practice to not see the testing set until evaluating the final model.\n"
   ]
  },
  {
   "cell_type": "code",
   "execution_count": 17,
   "metadata": {},
   "outputs": [
    {
     "name": "stderr",
     "output_type": "stream",
     "text": [
      "Warning message:\n",
      "\"\u001b[1m\u001b[22mRemoved 114 rows containing non-finite values (`stat_bin()`).\"\n",
      "Warning message:\n",
      "\"\u001b[1m\u001b[22mRemoved 114 rows containing non-finite values (`stat_bin()`).\"\n",
      "Warning message:\n",
      "\"\u001b[1m\u001b[22mRemoved 1349 rows containing non-finite values (`stat_bin()`).\"\n",
      "Warning message:\n",
      "\"\u001b[1m\u001b[22mRemoved 119 rows containing non-finite values (`stat_bin()`).\"\n",
      "Warning message:\n",
      "\"\u001b[1m\u001b[22mRemoved 121 rows containing non-finite values (`stat_bin()`).\"\n"
     ]
    },
    {
     "data": {
      "image/png": "[encoded data removed]",
      "text/plain": [
       "plot without title"
      ]
     },
     "metadata": {
      "image/png": {
       "height": 420,
       "width": 420
      }
     },
     "output_type": "display_data"
    },
    {
     "name": "stderr",
     "output_type": "stream",
     "text": [
      "Warning message:\n",
      "\"\u001b[1m\u001b[22mContinuous \u001b[32mx\u001b[39m aesthetic\n",
      "\u001b[36mℹ\u001b[39m did you forget `aes(group = ...)`?\"\n",
      "Warning message:\n",
      "\"\u001b[1m\u001b[22mContinuous \u001b[32mx\u001b[39m aesthetic\n",
      "\u001b[36mℹ\u001b[39m did you forget `aes(group = ...)`?\"\n",
      "Warning message:\n",
      "\"\u001b[1m\u001b[22mContinuous \u001b[32mx\u001b[39m aesthetic\n",
      "\u001b[36mℹ\u001b[39m did you forget `aes(group = ...)`?\"\n",
      "Warning message:\n",
      "\"\u001b[1m\u001b[22mContinuous \u001b[32mx\u001b[39m aesthetic\n",
      "\u001b[36mℹ\u001b[39m did you forget `aes(group = ...)`?\"\n"
     ]
    },
    {
     "data": {
      "image/png": "[encoded data removed]",
      "text/plain": [
       "plot without title"
      ]
     },
     "metadata": {
      "image/png": {
       "height": 420,
       "width": 420
      }
     },
     "output_type": "display_data"
    },
    {
     "data": {
      "image/png": "[encoded data removed]",
      "text/plain": [
       "plot without title"
      ]
     },
     "metadata": {
      "image/png": {
       "height": 420,
       "width": 420
      }
     },
     "output_type": "display_data"
    }
   ],
   "source": [
    "plot(train_data)\n",
    "p1 <- ggplot(train_data) +aes(relative_humidity) + geom_histogram(bins=20, fill= \"#07cec5\" )+ theme_bw() \n",
    "p2 <- ggplot(train_data) +aes(dry_bulb_temp_f) + geom_histogram(bins=15, fill= \"#07cec5\")+ theme_bw() \n",
    "p3 <- ggplot(train_data) +aes(precip) + geom_histogram(bins=6, fill= \"#07cec5\") + theme_bw()\n",
    "p4 <- ggplot(train_data) +aes(wind_speed) + geom_histogram(bins=10, fill= \"#07cec5\") + theme_bw()\n",
    "p5 <- ggplot(train_data) +aes(station_pressure) + geom_histogram(bins=20, fill= \"#07cec5\") + theme_bw()\n",
    "\n",
    "grid.arrange(p1,p2,p3,p4,p5)\n",
    "\n",
    "\n",
    "# Boxplot\n",
    "b1 <-ggplot(na.omit(train_data), mapping = aes(precip, y=relative_humidity)) + geom_boxplot( fill= \"#07cec5\")+ theme_bw()\n",
    "b2 <-ggplot(na.omit(train_data), mapping = aes(precip, y=dry_bulb_temp_f)) + geom_boxplot( fill= \"#07cec5\")+ theme_bw() \n",
    "\n",
    "b3 <-ggplot(na.omit(train_data), mapping = aes(y=precip)) + geom_boxplot( fill= \"#07cec5\")+ theme_bw() \n",
    "b4 <-ggplot(na.omit(train_data), mapping = aes(precip, y=wind_speed)) + geom_boxplot( fill= \"#07cec5\")+ theme_bw() \n",
    "b5 <-ggplot(na.omit(train_data), mapping = aes(precip, y=station_pressure)) + geom_boxplot( fill= \"#07cec5\")+ theme_bw() \n",
    "\n",
    "grid.arrange(b1,b2,b3,b4,b5)\n",
    "\n",
    "# #Histogram\n",
    "# ggplot(train_data, mapping = aes(x=relative_humidity)) + geom_histogram() \n",
    "# ggplot(train_data, mapping = aes(x=dry_bulb_temp_f)) + geom_histogram() \n",
    "# ggplot(train_data, mapping = aes(x=precip)) + geom_histogram() \n",
    "# ggplot(train_data, mapping = aes(x=wind_speed)) + geom_histogram() \n",
    "# ggplot(train_data, mapping = aes(x=station_pressure)) + geom_histogram() "
   ]
  },
  {
   "cell_type": "markdown",
   "metadata": {},
   "source": [
    "<a id=\"cell8\"></a>\n",
    "## 8. Linear Regression \n",
    "After exploring the dataset more, you are now ready to start creating models to predict the precipitation (`precip`).\n",
    "\n",
    "Create simple linear regression models where `precip` is the response variable and each of `relative_humidity`, `dry_bulb_temp_f`,`wind_speed` or `station_pressure` will be a predictor variable, e.g. `precip ~ relative_humidity`, `precip ~ dry_bulb_temp_f`, etc. for a total of four simple models. \n",
    "Additionally, visualize each simple model with a scatter plot.\n"
   ]
  },
  {
   "cell_type": "code",
   "execution_count": 18,
   "metadata": {},
   "outputs": [
    {
     "data": {
      "text/plain": [
       "parsnip model object\n",
       "\n",
       "\n",
       "Call:\n",
       "stats::lm(formula = precip ~ station_pressure, data = data)\n",
       "\n",
       "Coefficients:\n",
       "     (Intercept)  station_pressure  \n",
       "          0.6844           -0.0226  \n"
      ]
     },
     "metadata": {},
     "output_type": "display_data"
    },
    {
     "data": {
      "text/plain": [
       "parsnip model object\n",
       "\n",
       "\n",
       "Call:\n",
       "stats::lm(formula = precip ~ dry_bulb_temp_f, data = data)\n",
       "\n",
       "Coefficients:\n",
       "    (Intercept)  dry_bulb_temp_f  \n",
       "      4.752e-03        3.226e-05  \n"
      ]
     },
     "metadata": {},
     "output_type": "display_data"
    },
    {
     "data": {
      "text/plain": [
       "parsnip model object\n",
       "\n",
       "\n",
       "Call:\n",
       "stats::lm(formula = precip ~ wind_speed, data = data)\n",
       "\n",
       "Coefficients:\n",
       "(Intercept)   wind_speed  \n",
       "  0.0022478    0.0003811  \n"
      ]
     },
     "metadata": {},
     "output_type": "display_data"
    },
    {
     "data": {
      "text/plain": [
       "parsnip model object\n",
       "\n",
       "\n",
       "Call:\n",
       "stats::lm(formula = precip ~ station_pressure, data = data)\n",
       "\n",
       "Coefficients:\n",
       "     (Intercept)  station_pressure  \n",
       "          0.6844           -0.0226  \n"
      ]
     },
     "metadata": {},
     "output_type": "display_data"
    }
   ],
   "source": [
    "# relative_humidity, dry_bulb_temp_f,wind_speed or station_pressure\n",
    "\n",
    "# Pick linear regression\n",
    "lm_spec <- linear_reg() %>%\n",
    "  # Set engine\n",
    "  set_engine(engine = \"lm\")\n",
    "\n",
    "train_relative_humidity <- lm_spec %>% \n",
    "    fit(precip ~ relative_humidity, data = train_data)\n",
    "train_dry_bulb_temp_f <- lm_spec %>% \n",
    "    fit(precip ~ dry_bulb_temp_f, data = train_data)\n",
    "train_wind_speed <- lm_spec %>% \n",
    "    fit(precip ~ wind_speed, data = train_data)\n",
    "train_station_pressure <- lm_spec %>% \n",
    "    fit(precip ~ station_pressure, data = train_data)\n",
    "\n",
    "train_station_pressure\n",
    "train_dry_bulb_temp_f\n",
    "train_wind_speed\n",
    "train_station_pressure\n"
   ]
  },
  {
   "cell_type": "code",
   "execution_count": 19,
   "metadata": {},
   "outputs": [
    {
     "name": "stderr",
     "output_type": "stream",
     "text": [
      "Warning message:\n",
      "\"\u001b[1m\u001b[22mUsing `size` aesthetic for lines was deprecated in ggplot2 3.4.0.\n",
      "\u001b[36mℹ\u001b[39m Please use `linewidth` instead.\"\n",
      "\u001b[1m\u001b[22m`geom_smooth()` using method = 'gam' and formula = 'y ~ s(x, bs = \"cs\")'\n",
      "\u001b[1m\u001b[22m`geom_smooth()` using method = 'gam' and formula = 'y ~ s(x, bs = \"cs\")'\n",
      "\u001b[1m\u001b[22m`geom_smooth()` using method = 'gam' and formula = 'y ~ s(x, bs = \"cs\")'\n",
      "\u001b[1m\u001b[22m`geom_smooth()` using method = 'gam' and formula = 'y ~ s(x, bs = \"cs\")'\n"
     ]
    },
    {
     "data": {
      "image/png": "[encoded data removed]",
      "text/plain": [
       "plot without title"
      ]
     },
     "metadata": {
      "image/png": {
       "height": 420,
       "width": 420
      }
     },
     "output_type": "display_data"
    }
   ],
   "source": [
    "ssa1 <- train_data %>%\n",
    "  na.omit(precip) %>%\n",
    "  ggplot(aes(relative_humidity , precip))+\n",
    "  geom_smooth( color = \"orange\", \n",
    "              size = 1.5) +\n",
    "  geom_point(color = '#006EA1', \n",
    "             alpha = 0.5) \n",
    "ssa2 <- train_data %>%\n",
    "  na.omit(precip) %>%\n",
    "  ggplot(aes(dry_bulb_temp_f , precip))+\n",
    "  geom_smooth( color = \"orange\", \n",
    "              size = 1.5) +\n",
    "  geom_point(color = '#006EA1', \n",
    "             alpha = 0.5)\n",
    "ssa3 <- train_data %>%\n",
    "  na.omit(precip) %>%\n",
    "  ggplot(aes(wind_speed , precip))+\n",
    "  geom_smooth( color = \"orange\", \n",
    "              size = 1.5) +\n",
    "  geom_point(color = '#006EA1', \n",
    "             alpha = 0.5)\n",
    "ssa4 <- train_data %>%\n",
    "  na.omit(precip) %>%\n",
    "  ggplot(aes(station_pressure , precip))+\n",
    "  geom_smooth( color = \"orange\", \n",
    "              size = 1.5) +\n",
    "  geom_point(color = '#006EA1', \n",
    "             alpha = 0.5)\n",
    "grid.arrange(ssa1,ssa2,ssa3,ssa4)"
   ]
  },
  {
   "cell_type": "code",
   "execution_count": 20,
   "metadata": {},
   "outputs": [
    {
     "data": {
      "text/html": [
       "<table class=\"dataframe\">\n",
       "<caption>A tibble: 6 × 2</caption>\n",
       "<thead>\n",
       "\t<tr><th scope=col>.pred</th><th scope=col>truth</th></tr>\n",
       "\t<tr><th scope=col>&lt;dbl&gt;</th><th scope=col>&lt;dbl&gt;</th></tr>\n",
       "</thead>\n",
       "<tbody>\n",
       "\t<tr><td>0.017994461</td><td> 94</td></tr>\n",
       "\t<tr><td>0.010661160</td><td> 76</td></tr>\n",
       "\t<tr><td>0.002920453</td><td> 57</td></tr>\n",
       "\t<tr><td>0.015142621</td><td> 87</td></tr>\n",
       "\t<tr><td>0.006179698</td><td> 65</td></tr>\n",
       "\t<tr><td>0.020438895</td><td>100</td></tr>\n",
       "</tbody>\n",
       "</table>\n"
      ],
      "text/latex": [
       "A tibble: 6 × 2\n",
       "\\begin{tabular}{ll}\n",
       " .pred & truth\\\\\n",
       " <dbl> & <dbl>\\\\\n",
       "\\hline\n",
       "\t 0.017994461 &  94\\\\\n",
       "\t 0.010661160 &  76\\\\\n",
       "\t 0.002920453 &  57\\\\\n",
       "\t 0.015142621 &  87\\\\\n",
       "\t 0.006179698 &  65\\\\\n",
       "\t 0.020438895 & 100\\\\\n",
       "\\end{tabular}\n"
      ],
      "text/markdown": [
       "\n",
       "A tibble: 6 × 2\n",
       "\n",
       "| .pred &lt;dbl&gt; | truth &lt;dbl&gt; |\n",
       "|---|---|\n",
       "| 0.017994461 |  94 |\n",
       "| 0.010661160 |  76 |\n",
       "| 0.002920453 |  57 |\n",
       "| 0.015142621 |  87 |\n",
       "| 0.006179698 |  65 |\n",
       "| 0.020438895 | 100 |\n",
       "\n"
      ],
      "text/plain": [
       "  .pred       truth\n",
       "1 0.017994461  94  \n",
       "2 0.010661160  76  \n",
       "3 0.002920453  57  \n",
       "4 0.015142621  87  \n",
       "5 0.006179698  65  \n",
       "6 0.020438895 100  "
      ]
     },
     "metadata": {},
     "output_type": "display_data"
    },
    {
     "data": {
      "text/html": [
       "<table class=\"dataframe\">\n",
       "<caption>A tibble: 6 × 2</caption>\n",
       "<thead>\n",
       "\t<tr><th scope=col>.pred</th><th scope=col>truth</th></tr>\n",
       "\t<tr><th scope=col>&lt;dbl&gt;</th><th scope=col>&lt;dbl&gt;</th></tr>\n",
       "</thead>\n",
       "<tbody>\n",
       "\t<tr><td>0.007106693</td><td>73</td></tr>\n",
       "\t<tr><td>0.007074435</td><td>72</td></tr>\n",
       "\t<tr><td>0.005526026</td><td>24</td></tr>\n",
       "\t<tr><td>0.007106693</td><td>73</td></tr>\n",
       "\t<tr><td>0.006138938</td><td>43</td></tr>\n",
       "\t<tr><td>0.006590557</td><td>57</td></tr>\n",
       "</tbody>\n",
       "</table>\n"
      ],
      "text/latex": [
       "A tibble: 6 × 2\n",
       "\\begin{tabular}{ll}\n",
       " .pred & truth\\\\\n",
       " <dbl> & <dbl>\\\\\n",
       "\\hline\n",
       "\t 0.007106693 & 73\\\\\n",
       "\t 0.007074435 & 72\\\\\n",
       "\t 0.005526026 & 24\\\\\n",
       "\t 0.007106693 & 73\\\\\n",
       "\t 0.006138938 & 43\\\\\n",
       "\t 0.006590557 & 57\\\\\n",
       "\\end{tabular}\n"
      ],
      "text/markdown": [
       "\n",
       "A tibble: 6 × 2\n",
       "\n",
       "| .pred &lt;dbl&gt; | truth &lt;dbl&gt; |\n",
       "|---|---|\n",
       "| 0.007106693 | 73 |\n",
       "| 0.007074435 | 72 |\n",
       "| 0.005526026 | 24 |\n",
       "| 0.007106693 | 73 |\n",
       "| 0.006138938 | 43 |\n",
       "| 0.006590557 | 57 |\n",
       "\n"
      ],
      "text/plain": [
       "  .pred       truth\n",
       "1 0.007106693 73   \n",
       "2 0.007074435 72   \n",
       "3 0.005526026 24   \n",
       "4 0.007106693 73   \n",
       "5 0.006138938 43   \n",
       "6 0.006590557 57   "
      ]
     },
     "metadata": {},
     "output_type": "display_data"
    },
    {
     "data": {
      "text/html": [
       "<table class=\"dataframe\">\n",
       "<caption>A tibble: 6 × 2</caption>\n",
       "<thead>\n",
       "\t<tr><th scope=col>.pred</th><th scope=col>truth</th></tr>\n",
       "\t<tr><th scope=col>&lt;dbl&gt;</th><th scope=col>&lt;dbl&gt;</th></tr>\n",
       "</thead>\n",
       "<tbody>\n",
       "\t<tr><td>0.004915637</td><td> 7</td></tr>\n",
       "\t<tr><td>0.005296762</td><td> 8</td></tr>\n",
       "\t<tr><td>0.005677886</td><td> 9</td></tr>\n",
       "\t<tr><td>0.007202385</td><td>13</td></tr>\n",
       "\t<tr><td>0.006059011</td><td>10</td></tr>\n",
       "\t<tr><td>0.012919257</td><td>28</td></tr>\n",
       "</tbody>\n",
       "</table>\n"
      ],
      "text/latex": [
       "A tibble: 6 × 2\n",
       "\\begin{tabular}{ll}\n",
       " .pred & truth\\\\\n",
       " <dbl> & <dbl>\\\\\n",
       "\\hline\n",
       "\t 0.004915637 &  7\\\\\n",
       "\t 0.005296762 &  8\\\\\n",
       "\t 0.005677886 &  9\\\\\n",
       "\t 0.007202385 & 13\\\\\n",
       "\t 0.006059011 & 10\\\\\n",
       "\t 0.012919257 & 28\\\\\n",
       "\\end{tabular}\n"
      ],
      "text/markdown": [
       "\n",
       "A tibble: 6 × 2\n",
       "\n",
       "| .pred &lt;dbl&gt; | truth &lt;dbl&gt; |\n",
       "|---|---|\n",
       "| 0.004915637 |  7 |\n",
       "| 0.005296762 |  8 |\n",
       "| 0.005677886 |  9 |\n",
       "| 0.007202385 | 13 |\n",
       "| 0.006059011 | 10 |\n",
       "| 0.012919257 | 28 |\n",
       "\n"
      ],
      "text/plain": [
       "  .pred       truth\n",
       "1 0.004915637  7   \n",
       "2 0.005296762  8   \n",
       "3 0.005677886  9   \n",
       "4 0.007202385 13   \n",
       "5 0.006059011 10   \n",
       "6 0.012919257 28   "
      ]
     },
     "metadata": {},
     "output_type": "display_data"
    },
    {
     "data": {
      "text/html": [
       "<table class=\"dataframe\">\n",
       "<caption>A tibble: 6 × 2</caption>\n",
       "<thead>\n",
       "\t<tr><th scope=col>.pred</th><th scope=col>truth</th></tr>\n",
       "\t<tr><th scope=col>&lt;dbl&gt;</th><th scope=col>&lt;dbl&gt;</th></tr>\n",
       "</thead>\n",
       "<tbody>\n",
       "\t<tr><td> 0.010253614</td><td>29.83</td></tr>\n",
       "\t<tr><td> 0.002569840</td><td>30.17</td></tr>\n",
       "\t<tr><td>-0.007825853</td><td>30.63</td></tr>\n",
       "\t<tr><td> 0.011383580</td><td>29.78</td></tr>\n",
       "\t<tr><td>-0.002853999</td><td>30.41</td></tr>\n",
       "\t<tr><td> 0.013417520</td><td>29.69</td></tr>\n",
       "</tbody>\n",
       "</table>\n"
      ],
      "text/latex": [
       "A tibble: 6 × 2\n",
       "\\begin{tabular}{ll}\n",
       " .pred & truth\\\\\n",
       " <dbl> & <dbl>\\\\\n",
       "\\hline\n",
       "\t  0.010253614 & 29.83\\\\\n",
       "\t  0.002569840 & 30.17\\\\\n",
       "\t -0.007825853 & 30.63\\\\\n",
       "\t  0.011383580 & 29.78\\\\\n",
       "\t -0.002853999 & 30.41\\\\\n",
       "\t  0.013417520 & 29.69\\\\\n",
       "\\end{tabular}\n"
      ],
      "text/markdown": [
       "\n",
       "A tibble: 6 × 2\n",
       "\n",
       "| .pred &lt;dbl&gt; | truth &lt;dbl&gt; |\n",
       "|---|---|\n",
       "|  0.010253614 | 29.83 |\n",
       "|  0.002569840 | 30.17 |\n",
       "| -0.007825853 | 30.63 |\n",
       "|  0.011383580 | 29.78 |\n",
       "| -0.002853999 | 30.41 |\n",
       "|  0.013417520 | 29.69 |\n",
       "\n"
      ],
      "text/plain": [
       "  .pred        truth\n",
       "1  0.010253614 29.83\n",
       "2  0.002569840 30.17\n",
       "3 -0.007825853 30.63\n",
       "4  0.011383580 29.78\n",
       "5 -0.002853999 30.41\n",
       "6  0.013417520 29.69"
      ]
     },
     "metadata": {},
     "output_type": "display_data"
    }
   ],
   "source": [
    "relative_humidity_results <- train_relative_humidity %>%\n",
    "  # Make the predictions and save the predicted values\n",
    "  predict(new_data = train_data) %>%\n",
    "  # Create a new column to save the true values\n",
    "  mutate(truth = train_data$relative_humidity)\n",
    "dry_bulb_temp_f_results <- train_dry_bulb_temp_f %>%\n",
    "  # Make the predictions and save the predicted values\n",
    "  predict(new_data = train_data) %>%\n",
    "  # Create a new column to save the true values\n",
    "  mutate(truth = train_data$dry_bulb_temp_f)\n",
    "wind_speed_results <- train_wind_speed %>%\n",
    "  # Make the predictions and save the predicted values\n",
    "  predict(new_data = train_data) %>%\n",
    "  # Create a new column to save the true values\n",
    "  mutate(truth = train_data$wind_speed)\n",
    "station_pressure_results <- train_station_pressure %>%\n",
    "  # Make the predictions and save the predicted values\n",
    "  predict(new_data = train_data) %>%\n",
    "  # Create a new column to save the true values\n",
    "  mutate(truth = train_data$station_pressure)\n",
    "\n",
    "head(relative_humidity_results)\n",
    "head(dry_bulb_temp_f_results)\n",
    "head(wind_speed_results)\n",
    "head(station_pressure_results)\n",
    "\n"
   ]
  },
  {
   "cell_type": "markdown",
   "metadata": {},
   "source": [
    "<a id=\"cell9\"></a>\n",
    "## 9. Improve the Model\n",
    "Now, try improving the simple models you created in the previous section. \n",
    "\n",
    "Create at least two more models, each model should use at least one of the different techniques:\n",
    "1. Add more features/predictors\n",
    "2. Add regularization (L1, L2 or a mix)\n",
    "3. Add a polynomial component\n",
    "\n",
    "Also, for each of the models you create, check the model performance using the **training set** and a metric like MSE, RMSE, or R-squared.\n",
    "\n",
    "Consider using `tidymodels` if you choose to add regularization and tune lambda.\n"
   ]
  },
  {
   "cell_type": "code",
   "execution_count": 57,
   "metadata": {
    "tags": []
   },
   "outputs": [
    {
     "data": {
      "text/html": [
       "<table class=\"dataframe\">\n",
       "<caption>A data.frame: 6 × 4</caption>\n",
       "<thead>\n",
       "\t<tr><th></th><th scope=col>relative_humidity</th><th scope=col>dry_bulb_temp_f</th><th scope=col>wind_speed</th><th scope=col>station_pressure</th></tr>\n",
       "\t<tr><th></th><th scope=col>&lt;dbl&gt;</th><th scope=col>&lt;dbl&gt;</th><th scope=col>&lt;dbl&gt;</th><th scope=col>&lt;dbl&gt;</th></tr>\n",
       "</thead>\n",
       "<tbody>\n",
       "\t<tr><th scope=row>1004</th><td> 94</td><td>73</td><td> 7</td><td>29.83</td></tr>\n",
       "\t<tr><th scope=row>623</th><td> 76</td><td>72</td><td> 8</td><td>30.17</td></tr>\n",
       "\t<tr><th scope=row>2693</th><td> 57</td><td>24</td><td> 9</td><td>30.63</td></tr>\n",
       "\t<tr><th scope=row>934</th><td> 87</td><td>73</td><td>13</td><td>29.78</td></tr>\n",
       "\t<tr><th scope=row>4496</th><td> 65</td><td>43</td><td>10</td><td>30.41</td></tr>\n",
       "\t<tr><th scope=row>2948</th><td>100</td><td>57</td><td>28</td><td>29.69</td></tr>\n",
       "</tbody>\n",
       "</table>\n"
      ],
      "text/latex": [
       "A data.frame: 6 × 4\n",
       "\\begin{tabular}{r|llll}\n",
       "  & relative\\_humidity & dry\\_bulb\\_temp\\_f & wind\\_speed & station\\_pressure\\\\\n",
       "  & <dbl> & <dbl> & <dbl> & <dbl>\\\\\n",
       "\\hline\n",
       "\t1004 &  94 & 73 &  7 & 29.83\\\\\n",
       "\t623 &  76 & 72 &  8 & 30.17\\\\\n",
       "\t2693 &  57 & 24 &  9 & 30.63\\\\\n",
       "\t934 &  87 & 73 & 13 & 29.78\\\\\n",
       "\t4496 &  65 & 43 & 10 & 30.41\\\\\n",
       "\t2948 & 100 & 57 & 28 & 29.69\\\\\n",
       "\\end{tabular}\n"
      ],
      "text/markdown": [
       "\n",
       "A data.frame: 6 × 4\n",
       "\n",
       "| <!--/--> | relative_humidity &lt;dbl&gt; | dry_bulb_temp_f &lt;dbl&gt; | wind_speed &lt;dbl&gt; | station_pressure &lt;dbl&gt; |\n",
       "|---|---|---|---|---|\n",
       "| 1004 |  94 | 73 |  7 | 29.83 |\n",
       "| 623 |  76 | 72 |  8 | 30.17 |\n",
       "| 2693 |  57 | 24 |  9 | 30.63 |\n",
       "| 934 |  87 | 73 | 13 | 29.78 |\n",
       "| 4496 |  65 | 43 | 10 | 30.41 |\n",
       "| 2948 | 100 | 57 | 28 | 29.69 |\n",
       "\n"
      ],
      "text/plain": [
       "     relative_humidity dry_bulb_temp_f wind_speed station_pressure\n",
       "1004  94               73               7         29.83           \n",
       "623   76               72               8         30.17           \n",
       "2693  57               24               9         30.63           \n",
       "934   87               73              13         29.78           \n",
       "4496  65               43              10         30.41           \n",
       "2948 100               57              28         29.69           "
      ]
     },
     "metadata": {},
     "output_type": "display_data"
    }
   ],
   "source": [
    "head(train_data[, -3])"
   ]
  },
  {
   "cell_type": "code",
   "execution_count": 63,
   "metadata": {
    "tags": []
   },
   "outputs": [
    {
     "ename": "ERROR",
     "evalue": "Error in glmnet(x_train, y_train, family = \"poisson\", alpha = 0, lambda = 0.1): x has missing values; consider using makeX() to impute them\n",
     "output_type": "error",
     "traceback": [
      "Error in glmnet(x_train, y_train, family = \"poisson\", alpha = 0, lambda = 0.1): x has missing values; consider using makeX() to impute them\nTraceback:\n",
      "1. glmnet(x_train, y_train, family = \"poisson\", alpha = 0, lambda = 0.1)",
      "2. stop(\"x has missing values; consider using makeX() to impute them\")"
     ]
    }
   ],
   "source": [
    "# Load the glmnet package\n",
    "# library(glmnet)\n",
    "\n",
    "# Create a matrix of the features and labels\n",
    "x_train <- as.matrix(train_data[, -3])\n",
    "y_train <- train_data$precip\n",
    "\n",
    "# Fit the model\n",
    "l2_model <- glmnet(x_train, y_train,family =\"poisson\", alpha = 0, lambda = 0.1)"
   ]
  },
  {
   "cell_type": "code",
   "execution_count": 23,
   "metadata": {},
   "outputs": [
    {
     "data": {
      "text/html": [
       "<style>\n",
       ".list-inline {list-style: none; margin:0; padding: 0}\n",
       ".list-inline>li {display: inline-block}\n",
       ".list-inline>li:not(:last-child)::after {content: \"\\00b7\"; padding: 0 .5ex}\n",
       "</style>\n",
       "<ol class=list-inline><li>'relative_humidity'</li><li>'dry_bulb_temp_f'</li><li>'precip'</li><li>'wind_speed'</li><li>'station_pressure'</li></ol>\n"
      ],
      "text/latex": [
       "\\begin{enumerate*}\n",
       "\\item 'relative\\_humidity'\n",
       "\\item 'dry\\_bulb\\_temp\\_f'\n",
       "\\item 'precip'\n",
       "\\item 'wind\\_speed'\n",
       "\\item 'station\\_pressure'\n",
       "\\end{enumerate*}\n"
      ],
      "text/markdown": [
       "1. 'relative_humidity'\n",
       "2. 'dry_bulb_temp_f'\n",
       "3. 'precip'\n",
       "4. 'wind_speed'\n",
       "5. 'station_pressure'\n",
       "\n",
       "\n"
      ],
      "text/plain": [
       "[1] \"relative_humidity\" \"dry_bulb_temp_f\"   \"precip\"           \n",
       "[4] \"wind_speed\"        \"station_pressure\" "
      ]
     },
     "metadata": {},
     "output_type": "display_data"
    },
    {
     "name": "stdout",
     "output_type": "stream",
     "text": [
      "List of 7\n",
      " $ var_info    : tibble [5 × 4] (S3: tbl_df/tbl/data.frame)\n",
      "  ..$ variable: chr [1:5] \"relative_humidity\" \"dry_bulb_temp_f\" \"wind_speed\" \"station_pressure\" ...\n",
      "  ..$ type    :List of 5\n",
      "  ..$ role    : chr [1:5] \"predictor\" \"predictor\" \"predictor\" \"predictor\" ...\n",
      "  ..$ source  : chr [1:5] \"original\" \"original\" \"original\" \"original\" ...\n",
      " $ term_info   : tibble [5 × 4] (S3: tbl_df/tbl/data.frame)\n",
      "  ..$ variable: chr [1:5] \"relative_humidity\" \"dry_bulb_temp_f\" \"wind_speed\" \"station_pressure\" ...\n",
      "  ..$ type    :List of 5\n",
      "  ..$ role    : chr [1:5] \"predictor\" \"predictor\" \"predictor\" \"predictor\" ...\n",
      "  ..$ source  : chr [1:5] \"original\" \"original\" \"original\" \"original\" ...\n",
      " $ steps       : NULL\n",
      " $ template    : tibble [4,581 × 5] (S3: tbl_df/tbl/data.frame)\n",
      "  ..$ relative_humidity: num [1:4581] 94 76 57 87 65 100 68 33 67 23 ...\n",
      "  ..$ dry_bulb_temp_f  : num [1:4581] 73 72 24 73 43 57 40 21 31 70 ...\n",
      "  ..$ wind_speed       : num [1:4581] 7 8 9 13 10 28 9 17 8 30 ...\n",
      "  ..$ station_pressure : num [1:4581] 29.8 30.2 30.6 29.8 30.4 ...\n",
      "  ..$ precip           : num [1:4581] NA 0 0 0.58 0 0 0 0 0 0 ...\n",
      " $ levels      : NULL\n",
      " $ retained    : logi NA\n",
      " $ requirements:List of 1\n",
      "  ..$ bake: Named logi(0) \n",
      "  .. ..- attr(*, \"names\")= chr(0) \n",
      " - attr(*, \"class\")= chr \"recipe\"\n"
     ]
    }
   ],
   "source": [
    "names(train_data)\n",
    "td_recipe <- recipe(precip ~ ., data = train_data) \n",
    "glimpse(td_recipe)"
   ]
  },
  {
   "cell_type": "code",
   "execution_count": 24,
   "metadata": {
    "tags": []
   },
   "outputs": [
    {
     "name": "stderr",
     "output_type": "stream",
     "text": [
      "Loading required package: Matrix\n",
      "\n",
      "\n",
      "Attaching package: 'Matrix'\n",
      "\n",
      "\n",
      "The following objects are masked from 'package:tidyr':\n",
      "\n",
      "    expand, pack, unpack\n",
      "\n",
      "\n",
      "Loaded glmnet 4.1-6\n",
      "\n"
     ]
    }
   ],
   "source": [
    "library(\"glmnet\")"
   ]
  },
  {
   "cell_type": "code",
   "execution_count": 36,
   "metadata": {
    "tags": []
   },
   "outputs": [
    {
     "data": {
      "text/plain": [
       "Linear Regression Model Specification (regression)\n",
       "\n",
       "Main Arguments:\n",
       "  penalty = 0.1\n",
       "  mixture = 0\n",
       "\n",
       "Computational engine: glmnet \n"
      ]
     },
     "metadata": {},
     "output_type": "display_data"
    }
   ],
   "source": [
    "ridge_spec <- linear_reg(penalty = 0.1, mixture = 0) %>%\n",
    "  set_engine(\"glmnet\")\n",
    "ridge_spec"
   ]
  },
  {
   "cell_type": "code",
   "execution_count": 39,
   "metadata": {
    "tags": []
   },
   "outputs": [
    {
     "data": {
      "text/plain": [
       "══ Workflow ════════════════════════════════════════════════════════════════════════════════════════════════════════════\n",
       "\u001b[3mPreprocessor:\u001b[23m Recipe\n",
       "\u001b[3mModel:\u001b[23m None\n",
       "\n",
       "── Preprocessor ────────────────────────────────────────────────────────────────────────────────────────────────────────\n",
       "0 Recipe Steps"
      ]
     },
     "metadata": {},
     "output_type": "display_data"
    }
   ],
   "source": [
    "ridge_wf <- workflow() %>%\n",
    "  add_recipe(td_recipe)\n",
    "ridge_wf"
   ]
  },
  {
   "cell_type": "code",
   "execution_count": 47,
   "metadata": {
    "tags": []
   },
   "outputs": [
    {
     "ename": "ERROR",
     "evalue": "Error in glmnet::glmnet(x = maybe_matrix(x), y = y, alpha = ~0, family = \"gaussian\"): x has missing values; consider using makeX() to impute them\n",
     "output_type": "error",
     "traceback": [
      "Error in glmnet::glmnet(x = maybe_matrix(x), y = y, alpha = ~0, family = \"gaussian\"): x has missing values; consider using makeX() to impute them\nTraceback:\n",
      "1. ridge_wf %>% add_model(ridge_spec) %>% fit(data = makeX(train_data))",
      "2. fit(., data = makeX(train_data))",
      "3. fit.workflow(., data = makeX(train_data))",
      "4. .fit_model(workflow, control)",
      "5. fit(action_model, workflow = workflow, control = control)",
      "6. fit.action_model(action_model, workflow = workflow, control = control)",
      "7. fit_from_xy(spec, mold, case_weights, control_parsnip)",
      "8. fit_xy(spec, x = mold$predictors, y = mold$outcomes, case_weights = case_weights, \n .     control = control_parsnip)",
      "9. fit_xy.model_spec(spec, x = mold$predictors, y = mold$outcomes, \n .     case_weights = case_weights, control = control_parsnip)",
      "10. xy_xy(object = object, env = eval_env, control = control, target = \"matrix\", \n  .     ...)",
      "11. eval_mod(fit_call, capture = control$verbosity == 0, catch = control$catch, \n  .     envir = env, ...)",
      "12. eval_tidy(e, env = envir, ...)",
      "13. glmnet::glmnet(x = maybe_matrix(x), y = y, alpha = ~0, family = \"gaussian\")",
      "14. stop(\"x has missing values; consider using makeX() to impute them\")"
     ]
    }
   ],
   "source": [
    "ridge_fit <- ridge_wf %>%\n",
    "  add_model(ridge_spec) %>%\n",
    "  fit(data = train_data)"
   ]
  },
  {
   "cell_type": "code",
   "execution_count": 37,
   "metadata": {
    "tags": []
   },
   "outputs": [
    {
     "data": {
      "text/html": [
       "\n",
       "<table style=\"width: 100%;\"><tr><td>add_model {workflows}</td><td style=\"text-align: right;\">R Documentation</td></tr></table>\n",
       "\n",
       "<h2>Add a model to a workflow</h2>\n",
       "\n",
       "<h3>Description</h3>\n",
       "\n",
       "\n",
       "<ul>\n",
       "<li> <p><code>add_model()</code> adds a parsnip model to the workflow.\n",
       "</p>\n",
       "</li>\n",
       "<li> <p><code>remove_model()</code> removes the model specification as well as any fitted\n",
       "model object. Any extra formulas are also removed.\n",
       "</p>\n",
       "</li>\n",
       "<li> <p><code>update_model()</code> first removes the model then adds the new specification to\n",
       "the workflow.\n",
       "</p>\n",
       "</li></ul>\n",
       "\n",
       "\n",
       "\n",
       "<h3>Usage</h3>\n",
       "\n",
       "<pre><code class='language-R'>add_model(x, spec, ..., formula = NULL)\n",
       "\n",
       "remove_model(x)\n",
       "\n",
       "update_model(x, spec, ..., formula = NULL)\n",
       "</code></pre>\n",
       "\n",
       "\n",
       "<h3>Arguments</h3>\n",
       "\n",
       "<table>\n",
       "<tr style=\"vertical-align: top;\"><td><code>x</code></td>\n",
       "<td>\n",
       "<p>A workflow.</p>\n",
       "</td></tr>\n",
       "<tr style=\"vertical-align: top;\"><td><code>spec</code></td>\n",
       "<td>\n",
       "<p>A parsnip model specification.</p>\n",
       "</td></tr>\n",
       "<tr style=\"vertical-align: top;\"><td><code>...</code></td>\n",
       "<td>\n",
       "<p>These dots are for future extensions and must be empty.</p>\n",
       "</td></tr>\n",
       "<tr style=\"vertical-align: top;\"><td><code>formula</code></td>\n",
       "<td>\n",
       "<p>An optional formula override to specify the terms of the\n",
       "model. Typically, the terms are extracted from the formula or recipe\n",
       "preprocessing methods. However, some models (like survival and bayesian\n",
       "models) use the formula not to preprocess, but to specify the structure\n",
       "of the model. In those cases, a formula specifying the model structure\n",
       "must be passed unchanged into the model call itself. This argument is\n",
       "used for those purposes.</p>\n",
       "</td></tr>\n",
       "</table>\n",
       "\n",
       "\n",
       "<h3>Details</h3>\n",
       "\n",
       "<p><code>add_model()</code> is a required step to construct a minimal workflow.\n",
       "</p>\n",
       "\n",
       "\n",
       "<h3>Value</h3>\n",
       "\n",
       "<p><code>x</code>, updated with either a new or removed model.\n",
       "</p>\n",
       "\n",
       "\n",
       "<h3>Indicator Variable Details</h3>\n",
       "\n",
       "<p>Some modeling functions in R create indicator/dummy variables from\n",
       "categorical data when you use a model formula, and some do not. When you\n",
       "specify and fit a model with a <code>workflow()</code>, parsnip and workflows match\n",
       "and reproduce the underlying behavior of the user-specified model’s\n",
       "computational engine.\n",
       "</p>\n",
       "\n",
       "\n",
       "<h4>Formula Preprocessor</h4>\n",
       "\n",
       "<p>In the modeldata::Sacramento data set of real\n",
       "estate prices, the <code>type</code> variable has three levels: <code>\"Residential\"</code>,\n",
       "<code>\"Condo\"</code>, and <code>\"Multi-Family\"</code>. This base <code>workflow()</code> contains a\n",
       "formula added via <code>add_formula()</code> to predict property\n",
       "price from property type, square footage, number of beds, and number of\n",
       "baths:\n",
       "</p>\n",
       "<div class=\"sourceCode r\"><pre>set.seed(123)\n",
       "\n",
       "library(parsnip)\n",
       "library(recipes)\n",
       "library(workflows)\n",
       "library(modeldata)\n",
       "\n",
       "data(\"Sacramento\")\n",
       "\n",
       "base_wf &lt;- workflow() %&gt;%\n",
       "  add_formula(price ~ type + sqft + beds + baths)\n",
       "</pre></div>\n",
       "<p>This first model does create dummy/indicator variables:\n",
       "</p>\n",
       "<div class=\"sourceCode r\"><pre>lm_spec &lt;- linear_reg() %&gt;%\n",
       "  set_engine(\"lm\")\n",
       "\n",
       "base_wf %&gt;%\n",
       "  add_model(lm_spec) %&gt;%\n",
       "  fit(Sacramento)\n",
       "</pre></div>\n",
       "<div class=\"sourceCode\"><pre>## == Workflow [trained] ================================================\n",
       "## Preprocessor: Formula\n",
       "## Model: linear_reg()\n",
       "## \n",
       "## -- Preprocessor ------------------------------------------------------\n",
       "## price ~ type + sqft + beds + baths\n",
       "## \n",
       "## -- Model -------------------------------------------------------------\n",
       "## \n",
       "## Call:\n",
       "## stats::lm(formula = ..y ~ ., data = data)\n",
       "## \n",
       "## Coefficients:\n",
       "##      (Intercept)  typeMulti_Family   typeResidential  \n",
       "##          32919.4          -21995.8           33688.6  \n",
       "##             sqft              beds             baths  \n",
       "##            156.2          -29788.0            8730.0\n",
       "</pre></div>\n",
       "<p>There are <strong>five</strong> independent variables in the fitted model for this\n",
       "OLS linear regression. With this model type and engine, the factor\n",
       "predictor <code>type</code> of the real estate properties was converted to two\n",
       "binary predictors, <code>typeMulti_Family</code> and <code>typeResidential</code>. (The third\n",
       "type, for condos, does not need its own column because it is the\n",
       "baseline level).\n",
       "</p>\n",
       "<p>This second model does not create dummy/indicator variables:\n",
       "</p>\n",
       "<div class=\"sourceCode r\"><pre>rf_spec &lt;- rand_forest() %&gt;%\n",
       "  set_mode(\"regression\") %&gt;%\n",
       "  set_engine(\"ranger\")\n",
       "\n",
       "base_wf %&gt;%\n",
       "  add_model(rf_spec) %&gt;%\n",
       "  fit(Sacramento)\n",
       "</pre></div>\n",
       "<div class=\"sourceCode\"><pre>## == Workflow [trained] ================================================\n",
       "## Preprocessor: Formula\n",
       "## Model: rand_forest()\n",
       "## \n",
       "## -- Preprocessor ------------------------------------------------------\n",
       "## price ~ type + sqft + beds + baths\n",
       "## \n",
       "## -- Model -------------------------------------------------------------\n",
       "## Ranger result\n",
       "## \n",
       "## Call:\n",
       "##  ranger::ranger(x = maybe_data_frame(x), y = y, num.threads = 1,      verbose = FALSE, seed = sample.int(10^5, 1)) \n",
       "## \n",
       "## Type:                             Regression \n",
       "## Number of trees:                  500 \n",
       "## Sample size:                      932 \n",
       "## Number of independent variables:  4 \n",
       "## Mtry:                             2 \n",
       "## Target node size:                 5 \n",
       "## Variable importance mode:         none \n",
       "## Splitrule:                        variance \n",
       "## OOB prediction error (MSE):       7058847504 \n",
       "## R squared (OOB):                  0.5894647\n",
       "</pre></div>\n",
       "<p>Note that there are <strong>four</strong> independent variables in the fitted model\n",
       "for this ranger random forest. With this model type and engine,\n",
       "indicator variables were not created for the <code>type</code> of real estate\n",
       "property being sold. Tree-based models such as random forest models can\n",
       "handle factor predictors directly, and don’t need any conversion to\n",
       "numeric binary variables.\n",
       "</p>\n",
       "\n",
       "\n",
       "\n",
       "<h4>Recipe Preprocessor</h4>\n",
       "\n",
       "<p>When you specify a model with a <code>workflow()</code> and a recipe preprocessor\n",
       "via <code>add_recipe()</code>, the <em>recipe</em> controls whether dummy\n",
       "variables are created or not; the recipe overrides any underlying\n",
       "behavior from the model’s computational engine.\n",
       "</p>\n",
       "\n",
       "\n",
       "\n",
       "<h3>Examples</h3>\n",
       "\n",
       "<pre><code class='language-R'>library(parsnip)\n",
       "\n",
       "lm_model &lt;- linear_reg()\n",
       "lm_model &lt;- set_engine(lm_model, \"lm\")\n",
       "\n",
       "regularized_model &lt;- set_engine(lm_model, \"glmnet\")\n",
       "\n",
       "workflow &lt;- workflow()\n",
       "workflow &lt;- add_model(workflow, lm_model)\n",
       "workflow\n",
       "\n",
       "workflow &lt;- add_formula(workflow, mpg ~ .)\n",
       "workflow\n",
       "\n",
       "remove_model(workflow)\n",
       "\n",
       "fitted &lt;- fit(workflow, data = mtcars)\n",
       "fitted\n",
       "\n",
       "remove_model(fitted)\n",
       "\n",
       "remove_model(workflow)\n",
       "\n",
       "update_model(workflow, regularized_model)\n",
       "update_model(fitted, regularized_model)\n",
       "</code></pre>\n",
       "\n",
       "<hr /><div style=\"text-align: center;\">[Package <em>workflows</em> version 1.1.2 ]</div>\n",
       "</div>"
      ],
      "text/latex": [
       "\\inputencoding{utf8}\n",
       "\\HeaderA{add\\_model}{Add a model to a workflow}{add.Rul.model}\n",
       "\\aliasA{remove\\_model}{add\\_model}{remove.Rul.model}\n",
       "\\aliasA{update\\_model}{add\\_model}{update.Rul.model}\n",
       "%\n",
       "\\begin{Description}\\relax\n",
       "\\begin{itemize}\n",
       "\n",
       "\\item{} \\code{add\\_model()} adds a parsnip model to the workflow.\n",
       "\\item{} \\code{remove\\_model()} removes the model specification as well as any fitted\n",
       "model object. Any extra formulas are also removed.\n",
       "\\item{} \\code{update\\_model()} first removes the model then adds the new specification to\n",
       "the workflow.\n",
       "\n",
       "\\end{itemize}\n",
       "\n",
       "\\end{Description}\n",
       "%\n",
       "\\begin{Usage}\n",
       "\\begin{verbatim}\n",
       "add_model(x, spec, ..., formula = NULL)\n",
       "\n",
       "remove_model(x)\n",
       "\n",
       "update_model(x, spec, ..., formula = NULL)\n",
       "\\end{verbatim}\n",
       "\\end{Usage}\n",
       "%\n",
       "\\begin{Arguments}\n",
       "\\begin{ldescription}\n",
       "\\item[\\code{x}] A workflow.\n",
       "\n",
       "\\item[\\code{spec}] A parsnip model specification.\n",
       "\n",
       "\\item[\\code{...}] These dots are for future extensions and must be empty.\n",
       "\n",
       "\\item[\\code{formula}] An optional formula override to specify the terms of the\n",
       "model. Typically, the terms are extracted from the formula or recipe\n",
       "preprocessing methods. However, some models (like survival and bayesian\n",
       "models) use the formula not to preprocess, but to specify the structure\n",
       "of the model. In those cases, a formula specifying the model structure\n",
       "must be passed unchanged into the model call itself. This argument is\n",
       "used for those purposes.\n",
       "\\end{ldescription}\n",
       "\\end{Arguments}\n",
       "%\n",
       "\\begin{Details}\\relax\n",
       "\\code{add\\_model()} is a required step to construct a minimal workflow.\n",
       "\\end{Details}\n",
       "%\n",
       "\\begin{Value}\n",
       "\\code{x}, updated with either a new or removed model.\n",
       "\\end{Value}\n",
       "%\n",
       "\\begin{Section}{Indicator Variable Details}\n",
       "Some modeling functions in R create indicator/dummy variables from\n",
       "categorical data when you use a model formula, and some do not. When you\n",
       "specify and fit a model with a \\code{workflow()}, parsnip and workflows match\n",
       "and reproduce the underlying behavior of the user-specified model’s\n",
       "computational engine.\n",
       "%\n",
       "\\begin{SubSection}{Formula Preprocessor}\n",
       "\n",
       "In the \\LinkA{modeldata::Sacramento}{modeldata::Sacramento} data set of real\n",
       "estate prices, the \\code{type} variable has three levels: \\code{\"Residential\"},\n",
       "\\code{\"Condo\"}, and \\code{\"Multi-Family\"}. This base \\code{workflow()} contains a\n",
       "formula added via \\code{\\LinkA{add\\_formula()}{add.Rul.formula}} to predict property\n",
       "price from property type, square footage, number of beds, and number of\n",
       "baths:\n",
       "\n",
       "\\begin{alltt}set.seed(123)\n",
       "\n",
       "library(parsnip)\n",
       "library(recipes)\n",
       "library(workflows)\n",
       "library(modeldata)\n",
       "\n",
       "data(\"Sacramento\")\n",
       "\n",
       "base_wf <- workflow() %>%\n",
       "  add_formula(price ~ type + sqft + beds + baths)\n",
       "\\end{alltt}\n",
       "\n",
       "\n",
       "This first model does create dummy/indicator variables:\n",
       "\n",
       "\\begin{alltt}lm_spec <- linear_reg() %>%\n",
       "  set_engine(\"lm\")\n",
       "\n",
       "base_wf %>%\n",
       "  add_model(lm_spec) %>%\n",
       "  fit(Sacramento)\n",
       "\\end{alltt}\n",
       "\n",
       "\n",
       "\\begin{alltt}## == Workflow [trained] ================================================\n",
       "## Preprocessor: Formula\n",
       "## Model: linear_reg()\n",
       "## \n",
       "## -- Preprocessor ------------------------------------------------------\n",
       "## price ~ type + sqft + beds + baths\n",
       "## \n",
       "## -- Model -------------------------------------------------------------\n",
       "## \n",
       "## Call:\n",
       "## stats::lm(formula = ..y ~ ., data = data)\n",
       "## \n",
       "## Coefficients:\n",
       "##      (Intercept)  typeMulti_Family   typeResidential  \n",
       "##          32919.4          -21995.8           33688.6  \n",
       "##             sqft              beds             baths  \n",
       "##            156.2          -29788.0            8730.0\n",
       "\\end{alltt}\n",
       "\n",
       "\n",
       "There are \\strong{five} independent variables in the fitted model for this\n",
       "OLS linear regression. With this model type and engine, the factor\n",
       "predictor \\code{type} of the real estate properties was converted to two\n",
       "binary predictors, \\code{typeMulti\\_Family} and \\code{typeResidential}. (The third\n",
       "type, for condos, does not need its own column because it is the\n",
       "baseline level).\n",
       "\n",
       "This second model does not create dummy/indicator variables:\n",
       "\n",
       "\\begin{alltt}rf_spec <- rand_forest() %>%\n",
       "  set_mode(\"regression\") %>%\n",
       "  set_engine(\"ranger\")\n",
       "\n",
       "base_wf %>%\n",
       "  add_model(rf_spec) %>%\n",
       "  fit(Sacramento)\n",
       "\\end{alltt}\n",
       "\n",
       "\n",
       "\\begin{alltt}## == Workflow [trained] ================================================\n",
       "## Preprocessor: Formula\n",
       "## Model: rand_forest()\n",
       "## \n",
       "## -- Preprocessor ------------------------------------------------------\n",
       "## price ~ type + sqft + beds + baths\n",
       "## \n",
       "## -- Model -------------------------------------------------------------\n",
       "## Ranger result\n",
       "## \n",
       "## Call:\n",
       "##  ranger::ranger(x = maybe_data_frame(x), y = y, num.threads = 1,      verbose = FALSE, seed = sample.int(10^5, 1)) \n",
       "## \n",
       "## Type:                             Regression \n",
       "## Number of trees:                  500 \n",
       "## Sample size:                      932 \n",
       "## Number of independent variables:  4 \n",
       "## Mtry:                             2 \n",
       "## Target node size:                 5 \n",
       "## Variable importance mode:         none \n",
       "## Splitrule:                        variance \n",
       "## OOB prediction error (MSE):       7058847504 \n",
       "## R squared (OOB):                  0.5894647\n",
       "\\end{alltt}\n",
       "\n",
       "\n",
       "Note that there are \\strong{four} independent variables in the fitted model\n",
       "for this ranger random forest. With this model type and engine,\n",
       "indicator variables were not created for the \\code{type} of real estate\n",
       "property being sold. Tree-based models such as random forest models can\n",
       "handle factor predictors directly, and don’t need any conversion to\n",
       "numeric binary variables.\n",
       "\\end{SubSection}\n",
       "\n",
       "\n",
       "%\n",
       "\\begin{SubSection}{Recipe Preprocessor}\n",
       "\n",
       "When you specify a model with a \\code{workflow()} and a recipe preprocessor\n",
       "via \\code{\\LinkA{add\\_recipe()}{add.Rul.recipe}}, the \\emph{recipe} controls whether dummy\n",
       "variables are created or not; the recipe overrides any underlying\n",
       "behavior from the model’s computational engine.\n",
       "\\end{SubSection}\n",
       "\n",
       "\\end{Section}\n",
       "%\n",
       "\\begin{Examples}\n",
       "\\begin{ExampleCode}\n",
       "library(parsnip)\n",
       "\n",
       "lm_model <- linear_reg()\n",
       "lm_model <- set_engine(lm_model, \"lm\")\n",
       "\n",
       "regularized_model <- set_engine(lm_model, \"glmnet\")\n",
       "\n",
       "workflow <- workflow()\n",
       "workflow <- add_model(workflow, lm_model)\n",
       "workflow\n",
       "\n",
       "workflow <- add_formula(workflow, mpg ~ .)\n",
       "workflow\n",
       "\n",
       "remove_model(workflow)\n",
       "\n",
       "fitted <- fit(workflow, data = mtcars)\n",
       "fitted\n",
       "\n",
       "remove_model(fitted)\n",
       "\n",
       "remove_model(workflow)\n",
       "\n",
       "update_model(workflow, regularized_model)\n",
       "update_model(fitted, regularized_model)\n",
       "\\end{ExampleCode}\n",
       "\\end{Examples}"
      ],
      "text/plain": [
       "add_model              package:workflows               R Documentation\n",
       "\n",
       "_\bA_\bd_\bd _\ba _\bm_\bo_\bd_\be_\bl _\bt_\bo _\ba _\bw_\bo_\br_\bk_\bf_\bl_\bo_\bw\n",
       "\n",
       "_\bD_\be_\bs_\bc_\br_\bi_\bp_\bt_\bi_\bo_\bn:\n",
       "\n",
       "        * 'add_model()' adds a parsnip model to the workflow.\n",
       "\n",
       "        * 'remove_model()' removes the model specification as well as\n",
       "          any fitted model object. Any extra formulas are also removed.\n",
       "\n",
       "        * 'update_model()' first removes the model then adds the new\n",
       "          specification to the workflow.\n",
       "\n",
       "_\bU_\bs_\ba_\bg_\be:\n",
       "\n",
       "     add_model(x, spec, ..., formula = NULL)\n",
       "     \n",
       "     remove_model(x)\n",
       "     \n",
       "     update_model(x, spec, ..., formula = NULL)\n",
       "     \n",
       "_\bA_\br_\bg_\bu_\bm_\be_\bn_\bt_\bs:\n",
       "\n",
       "       x: A workflow.\n",
       "\n",
       "    spec: A parsnip model specification.\n",
       "\n",
       "     ...: These dots are for future extensions and must be empty.\n",
       "\n",
       " formula: An optional formula override to specify the terms of the\n",
       "          model. Typically, the terms are extracted from the formula or\n",
       "          recipe preprocessing methods. However, some models (like\n",
       "          survival and bayesian models) use the formula not to\n",
       "          preprocess, but to specify the structure of the model. In\n",
       "          those cases, a formula specifying the model structure must be\n",
       "          passed unchanged into the model call itself. This argument is\n",
       "          used for those purposes.\n",
       "\n",
       "_\bD_\be_\bt_\ba_\bi_\bl_\bs:\n",
       "\n",
       "     'add_model()' is a required step to construct a minimal workflow.\n",
       "\n",
       "_\bV_\ba_\bl_\bu_\be:\n",
       "\n",
       "     'x', updated with either a new or removed model.\n",
       "\n",
       "_\bI_\bn_\bd_\bi_\bc_\ba_\bt_\bo_\br _\bV_\ba_\br_\bi_\ba_\bb_\bl_\be _\bD_\be_\bt_\ba_\bi_\bl_\bs:\n",
       "\n",
       "     Some modeling functions in R create indicator/dummy variables from\n",
       "     categorical data when you use a model formula, and some do not.\n",
       "     When you specify and fit a model with a 'workflow()', parsnip and\n",
       "     workflows match and reproduce the underlying behavior of the\n",
       "     user-specified model’s computational engine.\n",
       "\n",
       "  _\bF_\bo_\br_\bm_\bu_\bl_\ba _\bP_\br_\be_\bp_\br_\bo_\bc_\be_\bs_\bs_\bo_\br:\n",
       "\n",
       "       In the modeldata::Sacramento data set of real estate prices, the\n",
       "       'type' variable has three levels: '\"Residential\"', '\"Condo\"',\n",
       "       and '\"Multi-Family\"'. This base 'workflow()' contains a formula\n",
       "       added via 'add_formula()' to predict property price from\n",
       "       property type, square footage, number of beds, and number of\n",
       "       baths:\n",
       "\n",
       "       set.seed(123)\n",
       "       \n",
       "       library(parsnip)\n",
       "       library(recipes)\n",
       "       library(workflows)\n",
       "       library(modeldata)\n",
       "       \n",
       "       data(\"Sacramento\")\n",
       "       \n",
       "       base_wf <- workflow() %>%\n",
       "         add_formula(price ~ type + sqft + beds + baths)\n",
       "       \n",
       "       This first model does create dummy/indicator variables:\n",
       "\n",
       "       lm_spec <- linear_reg() %>%\n",
       "         set_engine(\"lm\")\n",
       "       \n",
       "       base_wf %>%\n",
       "         add_model(lm_spec) %>%\n",
       "         fit(Sacramento)\n",
       "       \n",
       "       ## == Workflow [trained] ================================================\n",
       "       ## Preprocessor: Formula\n",
       "       ## Model: linear_reg()\n",
       "       ## \n",
       "       ## -- Preprocessor ------------------------------------------------------\n",
       "       ## price ~ type + sqft + beds + baths\n",
       "       ## \n",
       "       ## -- Model -------------------------------------------------------------\n",
       "       ## \n",
       "       ## Call:\n",
       "       ## stats::lm(formula = ..y ~ ., data = data)\n",
       "       ## \n",
       "       ## Coefficients:\n",
       "       ##      (Intercept)  typeMulti_Family   typeResidential  \n",
       "       ##          32919.4          -21995.8           33688.6  \n",
       "       ##             sqft              beds             baths  \n",
       "       ##            156.2          -29788.0            8730.0\n",
       "       \n",
       "       There are *five* independent variables in the fitted model for\n",
       "       this OLS linear regression. With this model type and engine, the\n",
       "       factor predictor 'type' of the real estate properties was\n",
       "       converted to two binary predictors, 'typeMulti_Family' and\n",
       "       'typeResidential'. (The third type, for condos, does not need\n",
       "       its own column because it is the baseline level).\n",
       "\n",
       "       This second model does not create dummy/indicator variables:\n",
       "\n",
       "       rf_spec <- rand_forest() %>%\n",
       "         set_mode(\"regression\") %>%\n",
       "         set_engine(\"ranger\")\n",
       "       \n",
       "       base_wf %>%\n",
       "         add_model(rf_spec) %>%\n",
       "         fit(Sacramento)\n",
       "       \n",
       "       ## == Workflow [trained] ================================================\n",
       "       ## Preprocessor: Formula\n",
       "       ## Model: rand_forest()\n",
       "       ## \n",
       "       ## -- Preprocessor ------------------------------------------------------\n",
       "       ## price ~ type + sqft + beds + baths\n",
       "       ## \n",
       "       ## -- Model -------------------------------------------------------------\n",
       "       ## Ranger result\n",
       "       ## \n",
       "       ## Call:\n",
       "       ##  ranger::ranger(x = maybe_data_frame(x), y = y, num.threads = 1,      verbose = FALSE, seed = sample.int(10^5, 1)) \n",
       "       ## \n",
       "       ## Type:                             Regression \n",
       "       ## Number of trees:                  500 \n",
       "       ## Sample size:                      932 \n",
       "       ## Number of independent variables:  4 \n",
       "       ## Mtry:                             2 \n",
       "       ## Target node size:                 5 \n",
       "       ## Variable importance mode:         none \n",
       "       ## Splitrule:                        variance \n",
       "       ## OOB prediction error (MSE):       7058847504 \n",
       "       ## R squared (OOB):                  0.5894647\n",
       "       \n",
       "       Note that there are *four* independent variables in the fitted\n",
       "       model for this ranger random forest. With this model type and\n",
       "       engine, indicator variables were not created for the 'type' of\n",
       "       real estate property being sold. Tree-based models such as\n",
       "       random forest models can handle factor predictors directly, and\n",
       "       don’t need any conversion to numeric binary variables.\n",
       "\n",
       "\n",
       "  _\bR_\be_\bc_\bi_\bp_\be _\bP_\br_\be_\bp_\br_\bo_\bc_\be_\bs_\bs_\bo_\br:\n",
       "\n",
       "       When you specify a model with a 'workflow()' and a recipe\n",
       "       preprocessor via 'add_recipe()', the _recipe_ controls whether\n",
       "       dummy variables are created or not; the recipe overrides any\n",
       "       underlying behavior from the model’s computational engine.\n",
       "\n",
       "\n",
       "_\bE_\bx_\ba_\bm_\bp_\bl_\be_\bs:\n",
       "\n",
       "     library(parsnip)\n",
       "     \n",
       "     lm_model <- linear_reg()\n",
       "     lm_model <- set_engine(lm_model, \"lm\")\n",
       "     \n",
       "     regularized_model <- set_engine(lm_model, \"glmnet\")\n",
       "     \n",
       "     workflow <- workflow()\n",
       "     workflow <- add_model(workflow, lm_model)\n",
       "     workflow\n",
       "     \n",
       "     workflow <- add_formula(workflow, mpg ~ .)\n",
       "     workflow\n",
       "     \n",
       "     remove_model(workflow)\n",
       "     \n",
       "     fitted <- fit(workflow, data = mtcars)\n",
       "     fitted\n",
       "     \n",
       "     remove_model(fitted)\n",
       "     \n",
       "     remove_model(workflow)\n",
       "     \n",
       "     update_model(workflow, regularized_model)\n",
       "     update_model(fitted, regularized_model)\n",
       "     "
      ]
     },
     "metadata": {},
     "output_type": "display_data"
    }
   ],
   "source": [
    "?add_model"
   ]
  },
  {
   "cell_type": "markdown",
   "metadata": {},
   "source": [
    "<a id=\"cell10\"></a>\n",
    "## 10. Find Best Model\n",
    "Compare the regression metrics of each model from section 9 to find the best model overall. To do this, \n",
    "\n",
    "1. Evaluate the models on the **testing set** using at least one metric (like MSE, RMSE or R-squared).\n",
    "2. After calculating the metrics on the testing set for each model, print them out in as a table to easily compare. You can use something like:\n",
    "```\n",
    "model_names <- c(\"model_1\", \"model_2\", \"model_3\")\n",
    "train_error <- c(\"model_1_value\", \"model_2_value\", \"model_3_value\")\n",
    "test_error <- c(\"model_1_value\", \"model_2_value\", \"model_3_value\")\n",
    "comparison_df <- data.frame(model_names, train_error, test_error)\n",
    "```\n",
    "3. Finally, from the comparison table you create, conclude which model performed the best.\n"
   ]
  },
  {
   "cell_type": "code",
   "execution_count": null,
   "metadata": {},
   "outputs": [],
   "source": []
  },
  {
   "cell_type": "markdown",
   "metadata": {},
   "source": [
    "## Author(s)\n",
    "\n",
    "<h4> Yiwen Li </h4>\n",
    "\n",
    "## Contributions\n",
    "\n",
    "<h4> Tiffany Zhu </h4>\n",
    "\n",
    "## <h3 align=\"center\"> © IBM Corporation 2021. All rights reserved. <h3/>\n"
   ]
  }
 ],
 "metadata": {
  "kernelspec": {
   "display_name": "R",
   "language": "R",
   "name": "ir"
  },
  "language_info": {
   "codemirror_mode": "r",
   "file_extension": ".r",
   "mimetype": "text/x-r-source",
   "name": "R",
   "pygments_lexer": "r",
   "version": "4.2.2"
  }
 },
 "nbformat": 4,
 "nbformat_minor": 4
}
